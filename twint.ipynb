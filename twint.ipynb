{
 "cells": [
  {
   "cell_type": "code",
   "execution_count": 11,
   "metadata": {},
   "outputs": [],
   "source": [
    "from selenium import webdriver\n",
    "from selenium.webdriver.common.by import By\n",
    "from selenium.webdriver.common.keys import Keys\n",
    "import time\n"
   ]
  },
  {
   "cell_type": "code",
   "execution_count": 12,
   "metadata": {},
   "outputs": [],
   "source": [
    "# For Chrome\n",
    "driver = webdriver.Firefox()"
   ]
  },
  {
   "cell_type": "code",
   "execution_count": 13,
   "metadata": {},
   "outputs": [],
   "source": [
    "driver.get('https://x.com/')"
   ]
  },
  {
   "cell_type": "code",
   "execution_count": 24,
   "metadata": {},
   "outputs": [
    {
     "name": "stdout",
     "output_type": "stream",
     "text": [
      "12\n",
      "12\n",
      "3\n",
      "5\n",
      "5\n",
      "6\n",
      "0\n"
     ]
    }
   ],
   "source": [
    "import re\n",
    "\n",
    "def extract_number_from_text(text):\n",
    "    \"\"\"\n",
    "    Extracts the first occurrence of a number (Arabic or Western numerals) from the given text.\n",
    "    \"\"\"\n",
    "    # Pattern to match Arabic and Western numerals\n",
    "    pattern = r'[\\d\\u0660-\\u0669]+'\n",
    "    match = re.search(pattern, text)\n",
    "    if match:\n",
    "        num_str = match.group()\n",
    "        # Convert Arabic numerals to Western numerals if necessary\n",
    "        arabic_to_western = str.maketrans('٠١٢٣٤٥٦٧٨٩', '0123456789')\n",
    "        num_str = num_str.translate(arabic_to_western)\n",
    "        return num_str\n",
    "    else:\n",
    "        return '0'\n",
    "    \n",
    "\n",
    "# Use the function to scrape tweets\n",
    "list_of_start_dates = [ \n",
    "\"2023-01-01\", \"2023-02-01\", \"2023-03-01\",\"2023-04-01\", \"2023-05-01\", \"2023-06-01\", \"2023-07-01\", \"2023-08-01\", \"2023-09-01\", \"2023-10-01\", \"2023-11-01\", \"2023-12-01\"\n",
    "]\n",
    "\n",
    "list_of_end_dates = [\n",
    "\"2023-01-30\", \"2023-02-30\", \"2023-03-30\", \"2023-04-30\", \"2023-05-30\", \"2023-06-30\",\"2023-07-30\", \"2023-08-30\", \"2023-09-30\", \"2023-10-30\", \"2023-11-30\", \"2023-12-30\"\n",
    "]\n",
    "list_of_hashtag_1 =[\n",
    "'الذكاء_الاصطناعي_في_التعليم', 'الذكاء_الاصطناعى_في_التعليم', 'الذكاء_الاصطناعي', \n",
    "\n",
    "\n",
    "]\n",
    "\n",
    "list_of_hashtag_2 = [\n",
    "     'الذكاء_التوليدي', 'الذكاء_التوليدي_في_التعليم', 'الذكاءالاصطناعي', 'بالذكاء_الاصطناعي', 'الذكاء_الاصطناعى'\n",
    "\n",
    "\n",
    "]\n",
    "\n",
    "list_of_hashtag_3 = ['ذكاء_اصطناعي', 'ذكاء_التعليم', 'ذكاء_توليدي', 'بالذكاء_التوليدي', 'الذكاءالتوليدي']\n",
    "\n",
    "all_data = {\n",
    "    'tweet': [],\n",
    "    'hashtags': [],\n",
    "    'timestamp': [],\n",
    "    'full_url': [],\n",
    "    'like_count': [],\n",
    "    'retweet_count': [],\n",
    "}\n",
    "\n",
    "print(len(list_of_start_dates))\n",
    "print(len(list_of_end_dates))\n",
    "print(len(list_of_hashtag_1))\n",
    "print(len(list_of_hashtag_2))\n",
    "print(len(list_of_hashtag_3))\n",
    "print(len(all_data))\n",
    "print(len(all_data['tweet']))\n",
    "\n"
   ]
  },
  {
   "cell_type": "code",
   "execution_count": 25,
   "metadata": {},
   "outputs": [],
   "source": [
    "def get_tweet_data(driver, all_data):\n",
    "    try:\n",
    "        tweets = driver.find_elements(By.XPATH, '//article[@data-testid=\"tweet\"]')\n",
    "        # print(len(tweets))\n",
    "        for tweet in tweets:\n",
    "            content_element = tweet.find_element(By.XPATH, './/div[@lang]')\n",
    "            content = content_element.text\n",
    "\n",
    "            hashtags_elements = content_element.find_elements(By.XPATH, './/a[contains(@href, \"/hashtag/\")]')\n",
    "            hashtags = [hashtag.text for hashtag in hashtags_elements]\n",
    "            \n",
    "            timestamp = tweet.find_element(By.TAG_NAME, 'time').get_attribute('datetime')\n",
    "\n",
    "            like_button = tweet.find_elements(By.XPATH, './/button[@data-testid=\"like\"]')[0]\n",
    "            aria_label = like_button.get_attribute('aria-label')\n",
    "            like_count = extract_number_from_text(aria_label)\n",
    "            \n",
    "            retweet_button = tweet.find_elements(By.XPATH, './/button[@data-testid=\"retweet\"]')[0]\n",
    "            aria_label = retweet_button.get_attribute('aria-label')\n",
    "            retweet_count = extract_number_from_text(aria_label)\n",
    "\n",
    "            try:\n",
    "                tweet_link = tweet.find_element(By.XPATH, \".//a[contains(@href, '/status/') and @role='link']\")\n",
    "                href = tweet_link.get_attribute('href')\n",
    "                if href.startswith('/'):\n",
    "                    full_url = 'https://x.com' + href\n",
    "                else:\n",
    "                    full_url = href\n",
    "                # print(f'Tweet URL: {full_url}')\n",
    "            except:\n",
    "                full_url = ''\n",
    "\n",
    "            all_data['tweet'].append(content)\n",
    "            all_data['hashtags'].append(hashtags)\n",
    "            all_data['like_count'].append(like_count)\n",
    "            all_data['retweet_count'].append(retweet_count)\n",
    "            all_data['timestamp'].append(timestamp)\n",
    "            all_data['full_url'].append(full_url)\n",
    "    except Exception as e:\n",
    "        pass\n",
    "    \n",
    "    return True"
   ]
  },
  {
   "cell_type": "code",
   "execution_count": 26,
   "metadata": {},
   "outputs": [],
   "source": [
    "def scrape_tweets(all_data, driver, hashtag, start_date, end_date, geocode=\"24.7136,46.6753,10km\", max_tweets=100):\n",
    "    # Construct the URL with parameters\n",
    "    url = f\"https://x.com/search?q=%23{hashtag}%20since%3A{start_date}%20until%3A{end_date}&src=typed_query&f=live&geocode={geocode}\"\n",
    "    driver.get(url)\n",
    "    time.sleep(3)  # Allow the page to load\n",
    "    tweet_data = []\n",
    "    last_height = driver.execute_script(\"return document.body.scrollHeight\")\n",
    "    \n",
    "    i = 0\n",
    "\n",
    "    while True:\n",
    "        get_tweet_data(driver, all_data)\n",
    "        # Scroll down\n",
    "        driver.execute_script(\"window.scrollTo(0, document.body.scrollHeight);\")\n",
    "        time.sleep(20)\n",
    "        # Calculate new scroll height and compare with last height\n",
    "        new_height = driver.execute_script(\"return document.body.scrollHeight\")\n",
    "        if new_height == last_height:\n",
    "            break\n",
    "        last_height = new_height\n",
    "        i+=1\n",
    "        if i==10000:\n",
    "            break\n",
    "\n",
    "    print(len(all_data['tweet']))\n",
    "    return True"
   ]
  },
  {
   "cell_type": "code",
   "execution_count": null,
   "metadata": {},
   "outputs": [
    {
     "name": "stdout",
     "output_type": "stream",
     "text": [
      "12\n",
      "12\n",
      "3\n",
      "5\n",
      "5\n",
      "6\n",
      "0\n",
      "==================================================\n"
     ]
    }
   ],
   "source": [
    "# for hashtag in list_of_hashtag_3:\n",
    "\n",
    "all_data = {\n",
    "    'tweet': [],\n",
    "    'hashtags': [],\n",
    "    'timestamp': [],\n",
    "    'full_url': [],\n",
    "    'like_count': [],\n",
    "    'retweet_count': [],\n",
    "}\n",
    "\n",
    "print(len(list_of_start_dates))\n",
    "print(len(list_of_end_dates))\n",
    "print(len(list_of_hashtag_1))\n",
    "print(len(list_of_hashtag_2))\n",
    "print(len(list_of_hashtag_3))\n",
    "print(len(all_data))\n",
    "print(len(all_data['tweet']))\n",
    "\n",
    "print('='*50)\n",
    "scrape_tweets(all_data, driver, 'الذكاء_الاصطناعي', \"2023-01-01\", \"2023-03-30\", geocode=\"24.774265, 46.738586,10km\", max_tweets=100)\n",
    "# time.sleep(60)"
   ]
  },
  {
   "cell_type": "code",
   "execution_count": 95,
   "metadata": {},
   "outputs": [
    {
     "name": "stdout",
     "output_type": "stream",
     "text": [
      "0\n",
      "0\n",
      "0\n",
      "0\n",
      "0\n",
      "0\n"
     ]
    }
   ],
   "source": [
    "\n",
    "print(len(all_data['tweet']))\n",
    "print(len(all_data['hashtags']))\n",
    "print(len(all_data['like_count']))\n",
    "print(len(all_data['retweet_count']))\n",
    "print(len(all_data['timestamp']))\n",
    "print(len(all_data['full_url']))"
   ]
  },
  {
   "cell_type": "code",
   "execution_count": 96,
   "metadata": {},
   "outputs": [
    {
     "data": {
      "text/html": [
       "<div>\n",
       "<style scoped>\n",
       "    .dataframe tbody tr th:only-of-type {\n",
       "        vertical-align: middle;\n",
       "    }\n",
       "\n",
       "    .dataframe tbody tr th {\n",
       "        vertical-align: top;\n",
       "    }\n",
       "\n",
       "    .dataframe thead th {\n",
       "        text-align: right;\n",
       "    }\n",
       "</style>\n",
       "<table border=\"1\" class=\"dataframe\">\n",
       "  <thead>\n",
       "    <tr style=\"text-align: right;\">\n",
       "      <th></th>\n",
       "      <th>tweet</th>\n",
       "      <th>hashtags</th>\n",
       "      <th>timestamp</th>\n",
       "      <th>full_url</th>\n",
       "      <th>like_count</th>\n",
       "      <th>retweet_count</th>\n",
       "    </tr>\n",
       "  </thead>\n",
       "  <tbody>\n",
       "  </tbody>\n",
       "</table>\n",
       "</div>"
      ],
      "text/plain": [
       "Empty DataFrame\n",
       "Columns: [tweet, hashtags, timestamp, full_url, like_count, retweet_count]\n",
       "Index: []"
      ]
     },
     "execution_count": 96,
     "metadata": {},
     "output_type": "execute_result"
    }
   ],
   "source": [
    "import pandas as pd\n",
    "df = pd.DataFrame(all_data)\n",
    "df.head()"
   ]
  },
  {
   "cell_type": "code",
   "execution_count": 97,
   "metadata": {},
   "outputs": [],
   "source": [
    "df.to_csv('data/الذكاء_الاصطناعي/file11.csv', index=False)"
   ]
  },
  {
   "cell_type": "code",
   "execution_count": 21,
   "metadata": {},
   "outputs": [
    {
     "ename": "FileNotFoundError",
     "evalue": "[Errno 2] No such file or directory: 'file1.csv'",
     "output_type": "error",
     "traceback": [
      "\u001b[1;31m---------------------------------------------------------------------------\u001b[0m",
      "\u001b[1;31mFileNotFoundError\u001b[0m                         Traceback (most recent call last)",
      "Cell \u001b[1;32mIn[21], line 1\u001b[0m\n\u001b[1;32m----> 1\u001b[0m df_ \u001b[38;5;241m=\u001b[39m (\u001b[38;5;28mlist\u001b[39m(\u001b[43mpd\u001b[49m\u001b[38;5;241;43m.\u001b[39;49m\u001b[43mread_csv\u001b[49m\u001b[43m(\u001b[49m\u001b[38;5;124;43m'\u001b[39;49m\u001b[38;5;124;43mfile1.csv\u001b[39;49m\u001b[38;5;124;43m'\u001b[39;49m\u001b[43m)\u001b[49m[\u001b[38;5;124m'\u001b[39m\u001b[38;5;124mtweet\u001b[39m\u001b[38;5;124m'\u001b[39m]))\n\u001b[0;32m      2\u001b[0m \u001b[38;5;28mlen\u001b[39m(df_)\n",
      "File \u001b[1;32m~\\AppData\\Local\\Packages\\PythonSoftwareFoundation.Python.3.11_qbz5n2kfra8p0\\LocalCache\\local-packages\\Python311\\site-packages\\pandas\\io\\parsers\\readers.py:912\u001b[0m, in \u001b[0;36mread_csv\u001b[1;34m(filepath_or_buffer, sep, delimiter, header, names, index_col, usecols, dtype, engine, converters, true_values, false_values, skipinitialspace, skiprows, skipfooter, nrows, na_values, keep_default_na, na_filter, verbose, skip_blank_lines, parse_dates, infer_datetime_format, keep_date_col, date_parser, date_format, dayfirst, cache_dates, iterator, chunksize, compression, thousands, decimal, lineterminator, quotechar, quoting, doublequote, escapechar, comment, encoding, encoding_errors, dialect, on_bad_lines, delim_whitespace, low_memory, memory_map, float_precision, storage_options, dtype_backend)\u001b[0m\n\u001b[0;32m    899\u001b[0m kwds_defaults \u001b[38;5;241m=\u001b[39m _refine_defaults_read(\n\u001b[0;32m    900\u001b[0m     dialect,\n\u001b[0;32m    901\u001b[0m     delimiter,\n\u001b[1;32m   (...)\u001b[0m\n\u001b[0;32m    908\u001b[0m     dtype_backend\u001b[38;5;241m=\u001b[39mdtype_backend,\n\u001b[0;32m    909\u001b[0m )\n\u001b[0;32m    910\u001b[0m kwds\u001b[38;5;241m.\u001b[39mupdate(kwds_defaults)\n\u001b[1;32m--> 912\u001b[0m \u001b[38;5;28;01mreturn\u001b[39;00m \u001b[43m_read\u001b[49m\u001b[43m(\u001b[49m\u001b[43mfilepath_or_buffer\u001b[49m\u001b[43m,\u001b[49m\u001b[43m \u001b[49m\u001b[43mkwds\u001b[49m\u001b[43m)\u001b[49m\n",
      "File \u001b[1;32m~\\AppData\\Local\\Packages\\PythonSoftwareFoundation.Python.3.11_qbz5n2kfra8p0\\LocalCache\\local-packages\\Python311\\site-packages\\pandas\\io\\parsers\\readers.py:577\u001b[0m, in \u001b[0;36m_read\u001b[1;34m(filepath_or_buffer, kwds)\u001b[0m\n\u001b[0;32m    574\u001b[0m _validate_names(kwds\u001b[38;5;241m.\u001b[39mget(\u001b[38;5;124m\"\u001b[39m\u001b[38;5;124mnames\u001b[39m\u001b[38;5;124m\"\u001b[39m, \u001b[38;5;28;01mNone\u001b[39;00m))\n\u001b[0;32m    576\u001b[0m \u001b[38;5;66;03m# Create the parser.\u001b[39;00m\n\u001b[1;32m--> 577\u001b[0m parser \u001b[38;5;241m=\u001b[39m \u001b[43mTextFileReader\u001b[49m\u001b[43m(\u001b[49m\u001b[43mfilepath_or_buffer\u001b[49m\u001b[43m,\u001b[49m\u001b[43m \u001b[49m\u001b[38;5;241;43m*\u001b[39;49m\u001b[38;5;241;43m*\u001b[39;49m\u001b[43mkwds\u001b[49m\u001b[43m)\u001b[49m\n\u001b[0;32m    579\u001b[0m \u001b[38;5;28;01mif\u001b[39;00m chunksize \u001b[38;5;129;01mor\u001b[39;00m iterator:\n\u001b[0;32m    580\u001b[0m     \u001b[38;5;28;01mreturn\u001b[39;00m parser\n",
      "File \u001b[1;32m~\\AppData\\Local\\Packages\\PythonSoftwareFoundation.Python.3.11_qbz5n2kfra8p0\\LocalCache\\local-packages\\Python311\\site-packages\\pandas\\io\\parsers\\readers.py:1407\u001b[0m, in \u001b[0;36mTextFileReader.__init__\u001b[1;34m(self, f, engine, **kwds)\u001b[0m\n\u001b[0;32m   1404\u001b[0m     \u001b[38;5;28mself\u001b[39m\u001b[38;5;241m.\u001b[39moptions[\u001b[38;5;124m\"\u001b[39m\u001b[38;5;124mhas_index_names\u001b[39m\u001b[38;5;124m\"\u001b[39m] \u001b[38;5;241m=\u001b[39m kwds[\u001b[38;5;124m\"\u001b[39m\u001b[38;5;124mhas_index_names\u001b[39m\u001b[38;5;124m\"\u001b[39m]\n\u001b[0;32m   1406\u001b[0m \u001b[38;5;28mself\u001b[39m\u001b[38;5;241m.\u001b[39mhandles: IOHandles \u001b[38;5;241m|\u001b[39m \u001b[38;5;28;01mNone\u001b[39;00m \u001b[38;5;241m=\u001b[39m \u001b[38;5;28;01mNone\u001b[39;00m\n\u001b[1;32m-> 1407\u001b[0m \u001b[38;5;28mself\u001b[39m\u001b[38;5;241m.\u001b[39m_engine \u001b[38;5;241m=\u001b[39m \u001b[38;5;28;43mself\u001b[39;49m\u001b[38;5;241;43m.\u001b[39;49m\u001b[43m_make_engine\u001b[49m\u001b[43m(\u001b[49m\u001b[43mf\u001b[49m\u001b[43m,\u001b[49m\u001b[43m \u001b[49m\u001b[38;5;28;43mself\u001b[39;49m\u001b[38;5;241;43m.\u001b[39;49m\u001b[43mengine\u001b[49m\u001b[43m)\u001b[49m\n",
      "File \u001b[1;32m~\\AppData\\Local\\Packages\\PythonSoftwareFoundation.Python.3.11_qbz5n2kfra8p0\\LocalCache\\local-packages\\Python311\\site-packages\\pandas\\io\\parsers\\readers.py:1661\u001b[0m, in \u001b[0;36mTextFileReader._make_engine\u001b[1;34m(self, f, engine)\u001b[0m\n\u001b[0;32m   1659\u001b[0m     \u001b[38;5;28;01mif\u001b[39;00m \u001b[38;5;124m\"\u001b[39m\u001b[38;5;124mb\u001b[39m\u001b[38;5;124m\"\u001b[39m \u001b[38;5;129;01mnot\u001b[39;00m \u001b[38;5;129;01min\u001b[39;00m mode:\n\u001b[0;32m   1660\u001b[0m         mode \u001b[38;5;241m+\u001b[39m\u001b[38;5;241m=\u001b[39m \u001b[38;5;124m\"\u001b[39m\u001b[38;5;124mb\u001b[39m\u001b[38;5;124m\"\u001b[39m\n\u001b[1;32m-> 1661\u001b[0m \u001b[38;5;28mself\u001b[39m\u001b[38;5;241m.\u001b[39mhandles \u001b[38;5;241m=\u001b[39m \u001b[43mget_handle\u001b[49m\u001b[43m(\u001b[49m\n\u001b[0;32m   1662\u001b[0m \u001b[43m    \u001b[49m\u001b[43mf\u001b[49m\u001b[43m,\u001b[49m\n\u001b[0;32m   1663\u001b[0m \u001b[43m    \u001b[49m\u001b[43mmode\u001b[49m\u001b[43m,\u001b[49m\n\u001b[0;32m   1664\u001b[0m \u001b[43m    \u001b[49m\u001b[43mencoding\u001b[49m\u001b[38;5;241;43m=\u001b[39;49m\u001b[38;5;28;43mself\u001b[39;49m\u001b[38;5;241;43m.\u001b[39;49m\u001b[43moptions\u001b[49m\u001b[38;5;241;43m.\u001b[39;49m\u001b[43mget\u001b[49m\u001b[43m(\u001b[49m\u001b[38;5;124;43m\"\u001b[39;49m\u001b[38;5;124;43mencoding\u001b[39;49m\u001b[38;5;124;43m\"\u001b[39;49m\u001b[43m,\u001b[49m\u001b[43m \u001b[49m\u001b[38;5;28;43;01mNone\u001b[39;49;00m\u001b[43m)\u001b[49m\u001b[43m,\u001b[49m\n\u001b[0;32m   1665\u001b[0m \u001b[43m    \u001b[49m\u001b[43mcompression\u001b[49m\u001b[38;5;241;43m=\u001b[39;49m\u001b[38;5;28;43mself\u001b[39;49m\u001b[38;5;241;43m.\u001b[39;49m\u001b[43moptions\u001b[49m\u001b[38;5;241;43m.\u001b[39;49m\u001b[43mget\u001b[49m\u001b[43m(\u001b[49m\u001b[38;5;124;43m\"\u001b[39;49m\u001b[38;5;124;43mcompression\u001b[39;49m\u001b[38;5;124;43m\"\u001b[39;49m\u001b[43m,\u001b[49m\u001b[43m \u001b[49m\u001b[38;5;28;43;01mNone\u001b[39;49;00m\u001b[43m)\u001b[49m\u001b[43m,\u001b[49m\n\u001b[0;32m   1666\u001b[0m \u001b[43m    \u001b[49m\u001b[43mmemory_map\u001b[49m\u001b[38;5;241;43m=\u001b[39;49m\u001b[38;5;28;43mself\u001b[39;49m\u001b[38;5;241;43m.\u001b[39;49m\u001b[43moptions\u001b[49m\u001b[38;5;241;43m.\u001b[39;49m\u001b[43mget\u001b[49m\u001b[43m(\u001b[49m\u001b[38;5;124;43m\"\u001b[39;49m\u001b[38;5;124;43mmemory_map\u001b[39;49m\u001b[38;5;124;43m\"\u001b[39;49m\u001b[43m,\u001b[49m\u001b[43m \u001b[49m\u001b[38;5;28;43;01mFalse\u001b[39;49;00m\u001b[43m)\u001b[49m\u001b[43m,\u001b[49m\n\u001b[0;32m   1667\u001b[0m \u001b[43m    \u001b[49m\u001b[43mis_text\u001b[49m\u001b[38;5;241;43m=\u001b[39;49m\u001b[43mis_text\u001b[49m\u001b[43m,\u001b[49m\n\u001b[0;32m   1668\u001b[0m \u001b[43m    \u001b[49m\u001b[43merrors\u001b[49m\u001b[38;5;241;43m=\u001b[39;49m\u001b[38;5;28;43mself\u001b[39;49m\u001b[38;5;241;43m.\u001b[39;49m\u001b[43moptions\u001b[49m\u001b[38;5;241;43m.\u001b[39;49m\u001b[43mget\u001b[49m\u001b[43m(\u001b[49m\u001b[38;5;124;43m\"\u001b[39;49m\u001b[38;5;124;43mencoding_errors\u001b[39;49m\u001b[38;5;124;43m\"\u001b[39;49m\u001b[43m,\u001b[49m\u001b[43m \u001b[49m\u001b[38;5;124;43m\"\u001b[39;49m\u001b[38;5;124;43mstrict\u001b[39;49m\u001b[38;5;124;43m\"\u001b[39;49m\u001b[43m)\u001b[49m\u001b[43m,\u001b[49m\n\u001b[0;32m   1669\u001b[0m \u001b[43m    \u001b[49m\u001b[43mstorage_options\u001b[49m\u001b[38;5;241;43m=\u001b[39;49m\u001b[38;5;28;43mself\u001b[39;49m\u001b[38;5;241;43m.\u001b[39;49m\u001b[43moptions\u001b[49m\u001b[38;5;241;43m.\u001b[39;49m\u001b[43mget\u001b[49m\u001b[43m(\u001b[49m\u001b[38;5;124;43m\"\u001b[39;49m\u001b[38;5;124;43mstorage_options\u001b[39;49m\u001b[38;5;124;43m\"\u001b[39;49m\u001b[43m,\u001b[49m\u001b[43m \u001b[49m\u001b[38;5;28;43;01mNone\u001b[39;49;00m\u001b[43m)\u001b[49m\u001b[43m,\u001b[49m\n\u001b[0;32m   1670\u001b[0m \u001b[43m\u001b[49m\u001b[43m)\u001b[49m\n\u001b[0;32m   1671\u001b[0m \u001b[38;5;28;01massert\u001b[39;00m \u001b[38;5;28mself\u001b[39m\u001b[38;5;241m.\u001b[39mhandles \u001b[38;5;129;01mis\u001b[39;00m \u001b[38;5;129;01mnot\u001b[39;00m \u001b[38;5;28;01mNone\u001b[39;00m\n\u001b[0;32m   1672\u001b[0m f \u001b[38;5;241m=\u001b[39m \u001b[38;5;28mself\u001b[39m\u001b[38;5;241m.\u001b[39mhandles\u001b[38;5;241m.\u001b[39mhandle\n",
      "File \u001b[1;32m~\\AppData\\Local\\Packages\\PythonSoftwareFoundation.Python.3.11_qbz5n2kfra8p0\\LocalCache\\local-packages\\Python311\\site-packages\\pandas\\io\\common.py:859\u001b[0m, in \u001b[0;36mget_handle\u001b[1;34m(path_or_buf, mode, encoding, compression, memory_map, is_text, errors, storage_options)\u001b[0m\n\u001b[0;32m    854\u001b[0m \u001b[38;5;28;01melif\u001b[39;00m \u001b[38;5;28misinstance\u001b[39m(handle, \u001b[38;5;28mstr\u001b[39m):\n\u001b[0;32m    855\u001b[0m     \u001b[38;5;66;03m# Check whether the filename is to be opened in binary mode.\u001b[39;00m\n\u001b[0;32m    856\u001b[0m     \u001b[38;5;66;03m# Binary mode does not support 'encoding' and 'newline'.\u001b[39;00m\n\u001b[0;32m    857\u001b[0m     \u001b[38;5;28;01mif\u001b[39;00m ioargs\u001b[38;5;241m.\u001b[39mencoding \u001b[38;5;129;01mand\u001b[39;00m \u001b[38;5;124m\"\u001b[39m\u001b[38;5;124mb\u001b[39m\u001b[38;5;124m\"\u001b[39m \u001b[38;5;129;01mnot\u001b[39;00m \u001b[38;5;129;01min\u001b[39;00m ioargs\u001b[38;5;241m.\u001b[39mmode:\n\u001b[0;32m    858\u001b[0m         \u001b[38;5;66;03m# Encoding\u001b[39;00m\n\u001b[1;32m--> 859\u001b[0m         handle \u001b[38;5;241m=\u001b[39m \u001b[38;5;28;43mopen\u001b[39;49m\u001b[43m(\u001b[49m\n\u001b[0;32m    860\u001b[0m \u001b[43m            \u001b[49m\u001b[43mhandle\u001b[49m\u001b[43m,\u001b[49m\n\u001b[0;32m    861\u001b[0m \u001b[43m            \u001b[49m\u001b[43mioargs\u001b[49m\u001b[38;5;241;43m.\u001b[39;49m\u001b[43mmode\u001b[49m\u001b[43m,\u001b[49m\n\u001b[0;32m    862\u001b[0m \u001b[43m            \u001b[49m\u001b[43mencoding\u001b[49m\u001b[38;5;241;43m=\u001b[39;49m\u001b[43mioargs\u001b[49m\u001b[38;5;241;43m.\u001b[39;49m\u001b[43mencoding\u001b[49m\u001b[43m,\u001b[49m\n\u001b[0;32m    863\u001b[0m \u001b[43m            \u001b[49m\u001b[43merrors\u001b[49m\u001b[38;5;241;43m=\u001b[39;49m\u001b[43merrors\u001b[49m\u001b[43m,\u001b[49m\n\u001b[0;32m    864\u001b[0m \u001b[43m            \u001b[49m\u001b[43mnewline\u001b[49m\u001b[38;5;241;43m=\u001b[39;49m\u001b[38;5;124;43m\"\u001b[39;49m\u001b[38;5;124;43m\"\u001b[39;49m\u001b[43m,\u001b[49m\n\u001b[0;32m    865\u001b[0m \u001b[43m        \u001b[49m\u001b[43m)\u001b[49m\n\u001b[0;32m    866\u001b[0m     \u001b[38;5;28;01melse\u001b[39;00m:\n\u001b[0;32m    867\u001b[0m         \u001b[38;5;66;03m# Binary mode\u001b[39;00m\n\u001b[0;32m    868\u001b[0m         handle \u001b[38;5;241m=\u001b[39m \u001b[38;5;28mopen\u001b[39m(handle, ioargs\u001b[38;5;241m.\u001b[39mmode)\n",
      "\u001b[1;31mFileNotFoundError\u001b[0m: [Errno 2] No such file or directory: 'file1.csv'"
     ]
    }
   ],
   "source": [
    "df_ = (list(pd.read_csv('file1.csv')['tweet']))\n",
    "len(df_)"
   ]
  },
  {
   "cell_type": "code",
   "execution_count": null,
   "metadata": {},
   "outputs": [
    {
     "name": "stdout",
     "output_type": "stream",
     "text": [
      "612\n",
      "923\n",
      "1242\n",
      "1561\n",
      "1830\n",
      "2143\n",
      "2395\n",
      "2714\n",
      "2958\n"
     ]
    }
   ],
   "source": [
    "for i in range(2, 13):\n",
    "    df_ += (list(pd.read_csv('file' + str(i) + '.csv')['tweet']))\n",
    "    print(len(df_))"
   ]
  },
  {
   "cell_type": "code",
   "execution_count": 114,
   "metadata": {},
   "outputs": [
    {
     "data": {
      "text/plain": [
       "2151"
      ]
     },
     "execution_count": 114,
     "metadata": {},
     "output_type": "execute_result"
    }
   ],
   "source": [
    "len(set(df_))"
   ]
  },
  {
   "cell_type": "code",
   "execution_count": 8,
   "metadata": {},
   "outputs": [],
   "source": [
    "url = \"https://x.com/search?q=%23الذكاء_الاصطناعى%20since%3A2023-01-01%20until%3A2023-01-31&src=typed_query&f=live&geocode=24.7136,46.6753,1000km\"\n",
    "driver.get(url)"
   ]
  },
  {
   "cell_type": "code",
   "execution_count": 26,
   "metadata": {},
   "outputs": [
    {
     "name": "stdout",
     "output_type": "stream",
     "text": [
      "<class 'list'>\n",
      "74\n",
      "68\n"
     ]
    }
   ],
   "source": [
    "tweets = all_data['tweet']\n",
    "print(type(tweets))\n",
    "print(len(tweets))\n",
    "print(len(set(tweets)))"
   ]
  },
  {
   "cell_type": "code",
   "execution_count": 5,
   "metadata": {},
   "outputs": [],
   "source": [
    "driver.get(\"https://x.com/search?q=%23الذكاء_الاصطناعى%20since%3A2023-01-01%20until%3A2023-01-31&src=typed_query&f=live&geocode=24.7136,46.6753,1000km\"\n",
    ")\n",
    "time.sleep(3)"
   ]
  },
  {
   "cell_type": "code",
   "execution_count": 7,
   "metadata": {},
   "outputs": [
    {
     "data": {
      "text/plain": [
       "3"
      ]
     },
     "execution_count": 7,
     "metadata": {},
     "output_type": "execute_result"
    }
   ],
   "source": [
    "tweet_data = []\n",
    "last_height = driver.execute_script(\"return document.body.scrollHeight\")\n",
    "\n",
    "i = 0\n",
    "\n",
    "while True:\n",
    "    # get_tweet_data(driver, all_data)\n",
    "    # Scroll down\n",
    "    driver.execute_script(\"window.scrollTo(0, document.body.scrollHeight);\")\n",
    "    time.sleep(3)\n",
    "    # Calculate new scroll height and compare with last height\n",
    "    new_height = driver.execute_script(\"return document.body.scrollHeight\")\n",
    "    if new_height == last_height:\n",
    "        break\n",
    "    last_height = new_height\n",
    "    i+=1\n",
    "    if i==2:\n",
    "        break\n",
    "\n",
    "tweets = driver.find_elements(By.XPATH, '//article[@data-testid=\"tweet\"]')\n",
    "len(tweets)"
   ]
  },
  {
   "cell_type": "code",
   "execution_count": 8,
   "metadata": {},
   "outputs": [
    {
     "name": "stdout",
     "output_type": "stream",
     "text": [
      "Error processing tweet: name 'hashtag' is not defined\n",
      "Error processing tweet: name 'hashtag' is not defined\n",
      "Error processing tweet: name 'hashtag' is not defined\n"
     ]
    }
   ],
   "source": [
    "import re\n",
    "from selenium.webdriver.common.by import By\n",
    "from selenium.common.exceptions import NoSuchElementException\n",
    "\n",
    "for tweet in tweets:\n",
    "    try:\n",
    "        # Extract tweet text\n",
    "        content_element = tweet.find_element(By.XPATH, './/div[@lang]')\n",
    "        content = content_element.text\n",
    "\n",
    "        # Extract hashtags\n",
    "        hashtags_elements = content_element.find_elements(By.XPATH, './/a[contains(@href, '/hashtag/')]')\n",
    "        hashtags = [hashtag.text for hashtag in hashtags_elements]\n",
    "\n",
    "        # Extract number of likes\n",
    "        try:\n",
    "            like_button = tweet.find_element(By.XPATH, './/button[@data-testid=\"like\"]')\n",
    "            aria_label = like_button.get_attribute('aria-label')\n",
    "            match = re.search(r'^(\\d+)', aria_label)\n",
    "            like_count = match.group(1) if match else '0'\n",
    "        except Exception as e:\n",
    "            like_count = '0'\n",
    "            print(f'Error extracting like count: {e}')\n",
    "\n",
    "        # Extract number of retweets\n",
    "        try:\n",
    "            retweet_button = tweet.find_element(By.XPATH, './/button[@data-testid=\"retweet\"]')\n",
    "            aria_label = retweet_button.get_attribute('aria-label')\n",
    "            match = re.search(r'^(\\d+)', aria_label)\n",
    "            retweet_count = match.group(1) if match else '0'\n",
    "        except Exception as e:\n",
    "            retweet_count = '0'\n",
    "            print(f'Error extracting retweet count: {e}')\n",
    "\n",
    "        # Extract the tweet URL\n",
    "        try:\n",
    "            tweet_link = tweet.find_element(By.XPATH, \".//a[contains(@href, '/status/') and @role='link']\")\n",
    "            href = tweet_link.get_attribute('href')\n",
    "            if href.startswith('/'):\n",
    "                full_url = 'https://x.com' + href\n",
    "            else:\n",
    "                full_url = href\n",
    "            print(f'Tweet URL: {full_url}')\n",
    "        except NoSuchElementException:\n",
    "            full_url = None\n",
    "            print('Tweet URL not found.')\n",
    "\n",
    "        # Print the extracted data\n",
    "        print(f'وسمُ التَّغريدة: {\", \".join(hashtags)}')\n",
    "        print(f'نصُّ التَّغريدة: {content}')\n",
    "        print(f'عددُ مرَّات إعادة التَّغريدة: {retweet_count}')\n",
    "        print(f'عددُ مرَّات الاعجاب بالتَّغريدة: {like_count}')\n",
    "        print('-' * 80)\n",
    "\n",
    "    except Exception as e:\n",
    "        print(f'Error processing tweet: {e}')\n"
   ]
  },
  {
   "cell_type": "code",
   "execution_count": null,
   "metadata": {},
   "outputs": [
    {
     "name": "stdout",
     "output_type": "stream",
     "text": [
      "وسمُ التَّغريدة: #الذكاء_الاصطناعي, #الطب\n",
      "================================================================================\n",
      "نصُّ التَّغريدة: تم اختبار بروتين مضاد للميكروبات مصمم ب #الذكاء_الاصطناعي  في الحياة الواقعية وثبت أنه يعمل. \n",
      "ProGen تم تدريبه على الأحماض الأمينية ل 280 مليون بروتين. تفاعل معها  بطرق تشير إلى أنها يمكن أن تكون فعالة في قتل البكتيريا. يمكن استخدام نفس النهج لإنشاء أدوية جديدة. \n",
      "#الطب\n",
      "عددُ مرَّات إعادة التَّغريدة: 2\n",
      "عددُ مرَّات الاعجاب بالتَّغريدة: 3\n",
      "--------------------------------------------------------------------------------\n",
      "وسمُ التَّغريدة: #الذكاء_الاصطناعي\n",
      "================================================================================\n",
      "نصُّ التَّغريدة: تحول واضح من قبل كبرى شركات الاعلام للانتقال للذكاء الاصطناعي!\n",
      "\n",
      "اليوم شركة CNET المختصة باخبار التقنية \n",
      "كشفت انها اعتمدت على #الذكاء_الاصطناعي لكتابة 77 مقالة منذ نوفمبر الماضي وهذا يعني 1% من اجمالي المقالات!\n",
      "عددُ مرَّات إعادة التَّغريدة: 0\n",
      "عددُ مرَّات الاعجاب بالتَّغريدة: 1\n",
      "--------------------------------------------------------------------------------\n",
      "وسمُ التَّغريدة: #تقارير_ميدار, #جوجل, #الذكاء_الاصطناعي\n",
      "================================================================================\n",
      "نصُّ التَّغريدة: #تقارير_ميدار\n",
      "\n",
      "#جوجل تحول النصوص والأصوات إلى موسيقى\n",
      "\n",
      "#الذكاء_الاصطناعي يأخذ بيد من يفتقدون العزف أو التأليف الموسيقى\n",
      "\n",
      "وفي نهاية المطاف سيظل الموهوب فطرياً أقوى من الجميع\n",
      "عددُ مرَّات إعادة التَّغريدة: 2\n",
      "عددُ مرَّات الاعجاب بالتَّغريدة: 8\n",
      "--------------------------------------------------------------------------------\n"
     ]
    }
   ],
   "source": []
  },
  {
   "cell_type": "code",
   "execution_count": null,
   "metadata": {},
   "outputs": [],
   "source": []
  }
 ],
 "metadata": {
  "kernelspec": {
   "display_name": "Python 3",
   "language": "python",
   "name": "python3"
  },
  "language_info": {
   "codemirror_mode": {
    "name": "ipython",
    "version": 3
   },
   "file_extension": ".py",
   "mimetype": "text/x-python",
   "name": "python",
   "nbconvert_exporter": "python",
   "pygments_lexer": "ipython3",
   "version": "3.11.9"
  }
 },
 "nbformat": 4,
 "nbformat_minor": 2
}
