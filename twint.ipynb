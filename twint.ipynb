{
 "cells": [
  {
   "cell_type": "code",
   "execution_count": 11,
   "metadata": {},
   "outputs": [],
   "source": [
    "from selenium import webdriver\n",
    "from selenium.webdriver.common.by import By\n",
    "from selenium.webdriver.common.keys import Keys\n",
    "import time\n"
   ]
  },
  {
   "cell_type": "code",
   "execution_count": 12,
   "metadata": {},
   "outputs": [],
   "source": [
    "# For Chrome\n",
    "driver = webdriver.Firefox()"
   ]
  },
  {
   "cell_type": "code",
   "execution_count": 13,
   "metadata": {},
   "outputs": [],
   "source": [
    "driver.get('https://x.com/')"
   ]
  },
  {
   "cell_type": "code",
   "execution_count": 24,
   "metadata": {},
   "outputs": [
    {
     "name": "stdout",
     "output_type": "stream",
     "text": [
      "12\n",
      "12\n",
      "3\n",
      "5\n",
      "5\n",
      "6\n",
      "0\n"
     ]
    }
   ],
   "source": [
    "import re\n",
    "\n",
    "def extract_number_from_text(text):\n",
    "    \"\"\"\n",
    "    Extracts the first occurrence of a number (Arabic or Western numerals) from the given text.\n",
    "    \"\"\"\n",
    "    # Pattern to match Arabic and Western numerals\n",
    "    pattern = r'[\\d\\u0660-\\u0669]+'\n",
    "    match = re.search(pattern, text)\n",
    "    if match:\n",
    "        num_str = match.group()\n",
    "        # Convert Arabic numerals to Western numerals if necessary\n",
    "        arabic_to_western = str.maketrans('٠١٢٣٤٥٦٧٨٩', '0123456789')\n",
    "        num_str = num_str.translate(arabic_to_western)\n",
    "        return num_str\n",
    "    else:\n",
    "        return '0'\n",
    "    \n",
    "\n",
    "# Use the function to scrape tweets\n",
    "list_of_start_dates = [ \n",
    "\"2023-01-01\", \"2023-02-01\", \"2023-03-01\",\"2023-04-01\", \"2023-05-01\", \"2023-06-01\", \"2023-07-01\", \"2023-08-01\", \"2023-09-01\", \"2023-10-01\", \"2023-11-01\", \"2023-12-01\"\n",
    "]\n",
    "\n",
    "list_of_end_dates = [\n",
    "\"2023-01-30\", \"2023-02-30\", \"2023-03-30\", \"2023-04-30\", \"2023-05-30\", \"2023-06-30\",\"2023-07-30\", \"2023-08-30\", \"2023-09-30\", \"2023-10-30\", \"2023-11-30\", \"2023-12-30\"\n",
    "]\n",
    "list_of_hashtag_1 =[\n",
    "'الذكاء_الاصطناعي_في_التعليم', 'الذكاء_الاصطناعى_في_التعليم', 'الذكاء_الاصطناعي', \n",
    "\n",
    "\n",
    "]\n",
    "\n",
    "list_of_hashtag_2 = [\n",
    "     'الذكاء_التوليدي', 'الذكاء_التوليدي_في_التعليم', 'الذكاءالاصطناعي', 'بالذكاء_الاصطناعي', 'الذكاء_الاصطناعى'\n",
    "\n",
    "\n",
    "]\n",
    "\n",
    "list_of_hashtag_3 = ['ذكاء_اصطناعي', 'ذكاء_التعليم', 'ذكاء_توليدي', 'بالذكاء_التوليدي', 'الذكاءالتوليدي']\n",
    "\n",
    "all_data = {\n",
    "    'tweet': [],\n",
    "    'hashtags': [],\n",
    "    'timestamp': [],\n",
    "    'full_url': [],\n",
    "    'like_count': [],\n",
    "    'retweet_count': [],\n",
    "}\n",
    "\n",
    "print(len(list_of_start_dates))\n",
    "print(len(list_of_end_dates))\n",
    "print(len(list_of_hashtag_1))\n",
    "print(len(list_of_hashtag_2))\n",
    "print(len(list_of_hashtag_3))\n",
    "print(len(all_data))\n",
    "print(len(all_data['tweet']))\n",
    "\n"
   ]
  },
  {
   "cell_type": "code",
   "execution_count": 25,
   "metadata": {},
   "outputs": [],
   "source": [
    "def get_tweet_data(driver, all_data):\n",
    "    try:\n",
    "        tweets = driver.find_elements(By.XPATH, '//article[@data-testid=\"tweet\"]')\n",
    "        # print(len(tweets))\n",
    "        for tweet in tweets:\n",
    "            content_element = tweet.find_element(By.XPATH, './/div[@lang]')\n",
    "            content = content_element.text\n",
    "\n",
    "            hashtags_elements = content_element.find_elements(By.XPATH, './/a[contains(@href, \"/hashtag/\")]')\n",
    "            hashtags = [hashtag.text for hashtag in hashtags_elements]\n",
    "            \n",
    "            timestamp = tweet.find_element(By.TAG_NAME, 'time').get_attribute('datetime')\n",
    "\n",
    "            like_button = tweet.find_elements(By.XPATH, './/button[@data-testid=\"like\"]')[0]\n",
    "            aria_label = like_button.get_attribute('aria-label')\n",
    "            like_count = extract_number_from_text(aria_label)\n",
    "            \n",
    "            retweet_button = tweet.find_elements(By.XPATH, './/button[@data-testid=\"retweet\"]')[0]\n",
    "            aria_label = retweet_button.get_attribute('aria-label')\n",
    "            retweet_count = extract_number_from_text(aria_label)\n",
    "\n",
    "            try:\n",
    "                tweet_link = tweet.find_element(By.XPATH, \".//a[contains(@href, '/status/') and @role='link']\")\n",
    "                href = tweet_link.get_attribute('href')\n",
    "                if href.startswith('/'):\n",
    "                    full_url = 'https://x.com' + href\n",
    "                else:\n",
    "                    full_url = href\n",
    "                # print(f'Tweet URL: {full_url}')\n",
    "            except:\n",
    "                full_url = ''\n",
    "\n",
    "            all_data['tweet'].append(content)\n",
    "            all_data['hashtags'].append(hashtags)\n",
    "            all_data['like_count'].append(like_count)\n",
    "            all_data['retweet_count'].append(retweet_count)\n",
    "            all_data['timestamp'].append(timestamp)\n",
    "            all_data['full_url'].append(full_url)\n",
    "    except Exception as e:\n",
    "        pass\n",
    "    \n",
    "    return True"
   ]
  },
  {
   "cell_type": "code",
   "execution_count": 26,
   "metadata": {},
   "outputs": [],
   "source": [
    "def scrape_tweets(all_data, driver, hashtag, start_date, end_date, geocode=\"24.7136,46.6753,10km\", max_tweets=100):\n",
    "    # Construct the URL with parameters\n",
    "    url = f\"https://x.com/search?q=%23{hashtag}%20since%3A{start_date}%20until%3A{end_date}&src=typed_query&f=live&geocode={geocode}\"\n",
    "    driver.get(url)\n",
    "    time.sleep(3)  # Allow the page to load\n",
    "    tweet_data = []\n",
    "    last_height = driver.execute_script(\"return document.body.scrollHeight\")\n",
    "    \n",
    "    i = 0\n",
    "\n",
    "    while True:\n",
    "        get_tweet_data(driver, all_data)\n",
    "        # Scroll down\n",
    "        driver.execute_script(\"window.scrollTo(0, document.body.scrollHeight);\")\n",
    "        time.sleep(20)\n",
    "        # Calculate new scroll height and compare with last height\n",
    "        new_height = driver.execute_script(\"return document.body.scrollHeight\")\n",
    "        if new_height == last_height:\n",
    "            break\n",
    "        last_height = new_height\n",
    "        i+=1\n",
    "        if i==10000:\n",
    "            break\n",
    "\n",
    "    print(len(all_data['tweet']))\n",
    "    return True"
   ]
  },
  {
   "cell_type": "code",
   "execution_count": null,
   "metadata": {},
   "outputs": [
    {
     "name": "stdout",
     "output_type": "stream",
     "text": [
      "12\n",
      "12\n",
      "3\n",
      "5\n",
      "5\n",
      "6\n",
      "0\n",
      "==================================================\n"
     ]
    }
   ],
   "source": [
    "# for hashtag in list_of_hashtag_3:\n",
    "\n",
    "all_data = {\n",
    "    'tweet': [],\n",
    "    'hashtags': [],\n",
    "    'timestamp': [],\n",
    "    'full_url': [],\n",
    "    'like_count': [],\n",
    "    'retweet_count': [],\n",
    "}\n",
    "\n",
    "print(len(list_of_start_dates))\n",
    "print(len(list_of_end_dates))\n",
    "print(len(list_of_hashtag_1))\n",
    "print(len(list_of_hashtag_2))\n",
    "print(len(list_of_hashtag_3))\n",
    "print(len(all_data))\n",
    "print(len(all_data['tweet']))\n",
    "\n",
    "print('='*50)\n",
    "scrape_tweets(all_data, driver, 'الذكاء_الاصطناعي', \"2023-01-01\", \"2023-03-30\", geocode=\"24.774265, 46.738586,10km\", max_tweets=100)\n",
    "# time.sleep(60)"
   ]
  },
  {
   "cell_type": "code",
   "execution_count": 95,
   "metadata": {},
   "outputs": [
    {
     "name": "stdout",
     "output_type": "stream",
     "text": [
      "0\n",
      "0\n",
      "0\n",
      "0\n",
      "0\n",
      "0\n"
     ]
    }
   ],
   "source": [
    "\n",
    "print(len(all_data['tweet']))\n",
    "print(len(all_data['hashtags']))\n",
    "print(len(all_data['like_count']))\n",
    "print(len(all_data['retweet_count']))\n",
    "print(len(all_data['timestamp']))\n",
    "print(len(all_data['full_url']))"
   ]
  },
  {
   "cell_type": "code",
   "execution_count": 96,
   "metadata": {},
   "outputs": [
    {
     "data": {
      "text/html": [
       "<div>\n",
       "<style scoped>\n",
       "    .dataframe tbody tr th:only-of-type {\n",
       "        vertical-align: middle;\n",
       "    }\n",
       "\n",
       "    .dataframe tbody tr th {\n",
       "        vertical-align: top;\n",
       "    }\n",
       "\n",
       "    .dataframe thead th {\n",
       "        text-align: right;\n",
       "    }\n",
       "</style>\n",
       "<table border=\"1\" class=\"dataframe\">\n",
       "  <thead>\n",
       "    <tr style=\"text-align: right;\">\n",
       "      <th></th>\n",
       "      <th>tweet</th>\n",
       "      <th>hashtags</th>\n",
       "      <th>timestamp</th>\n",
       "      <th>full_url</th>\n",
       "      <th>like_count</th>\n",
       "      <th>retweet_count</th>\n",
       "    </tr>\n",
       "  </thead>\n",
       "  <tbody>\n",
       "  </tbody>\n",
       "</table>\n",
       "</div>"
      ],
      "text/plain": [
       "Empty DataFrame\n",
       "Columns: [tweet, hashtags, timestamp, full_url, like_count, retweet_count]\n",
       "Index: []"
      ]
     },
     "execution_count": 96,
     "metadata": {},
     "output_type": "execute_result"
    }
   ],
   "source": [
    "import pandas as pd\n",
    "df = pd.DataFrame(all_data)\n",
    "df.head()"
   ]
  },
  {
   "cell_type": "code",
   "execution_count": 97,
   "metadata": {},
   "outputs": [],
   "source": [
    "df.to_csv('data/الذكاء_الاصطناعي/file11.csv', index=False)"
   ]
  },
  {
   "cell_type": "code",
   "execution_count": 21,
   "metadata": {},
   "outputs": [
    {
     "ename": "FileNotFoundError",
     "evalue": "[Errno 2] No such file or directory: 'file1.csv'",
     "output_type": "error",
     "traceback": [
      "\u001b[1;31m---------------------------------------------------------------------------\u001b[0m",
      "\u001b[1;31mFileNotFoundError\u001b[0m                         Traceback (most recent call last)",
      "Cell \u001b[1;32mIn[21], line 1\u001b[0m\n\u001b[1;32m----> 1\u001b[0m df_ \u001b[38;5;241m=\u001b[39m (\u001b[38;5;28mlist\u001b[39m(\u001b[43mpd\u001b[49m\u001b[38;5;241;43m.\u001b[39;49m\u001b[43mread_csv\u001b[49m\u001b[43m(\u001b[49m\u001b[38;5;124;43m'\u001b[39;49m\u001b[38;5;124;43mfile1.csv\u001b[39;49m\u001b[38;5;124;43m'\u001b[39;49m\u001b[43m)\u001b[49m[\u001b[38;5;124m'\u001b[39m\u001b[38;5;124mtweet\u001b[39m\u001b[38;5;124m'\u001b[39m]))\n\u001b[0;32m      2\u001b[0m \u001b[38;5;28mlen\u001b[39m(df_)\n",
      "File \u001b[1;32m~\\AppData\\Local\\Packages\\PythonSoftwareFoundation.Python.3.11_qbz5n2kfra8p0\\LocalCache\\local-packages\\Python311\\site-packages\\pandas\\io\\parsers\\readers.py:912\u001b[0m, in \u001b[0;36mread_csv\u001b[1;34m(filepath_or_buffer, sep, delimiter, header, names, index_col, usecols, dtype, engine, converters, true_values, false_values, skipinitialspace, skiprows, skipfooter, nrows, na_values, keep_default_na, na_filter, verbose, skip_blank_lines, parse_dates, infer_datetime_format, keep_date_col, date_parser, date_format, dayfirst, cache_dates, iterator, chunksize, compression, thousands, decimal, lineterminator, quotechar, quoting, doublequote, escapechar, comment, encoding, encoding_errors, dialect, on_bad_lines, delim_whitespace, low_memory, memory_map, float_precision, storage_options, dtype_backend)\u001b[0m\n\u001b[0;32m    899\u001b[0m kwds_defaults \u001b[38;5;241m=\u001b[39m _refine_defaults_read(\n\u001b[0;32m    900\u001b[0m     dialect,\n\u001b[0;32m    901\u001b[0m     delimiter,\n\u001b[1;32m   (...)\u001b[0m\n\u001b[0;32m    908\u001b[0m     dtype_backend\u001b[38;5;241m=\u001b[39mdtype_backend,\n\u001b[0;32m    909\u001b[0m )\n\u001b[0;32m    910\u001b[0m kwds\u001b[38;5;241m.\u001b[39mupdate(kwds_defaults)\n\u001b[1;32m--> 912\u001b[0m \u001b[38;5;28;01mreturn\u001b[39;00m \u001b[43m_read\u001b[49m\u001b[43m(\u001b[49m\u001b[43mfilepath_or_buffer\u001b[49m\u001b[43m,\u001b[49m\u001b[43m \u001b[49m\u001b[43mkwds\u001b[49m\u001b[43m)\u001b[49m\n",
      "File \u001b[1;32m~\\AppData\\Local\\Packages\\PythonSoftwareFoundation.Python.3.11_qbz5n2kfra8p0\\LocalCache\\local-packages\\Python311\\site-packages\\pandas\\io\\parsers\\readers.py:577\u001b[0m, in \u001b[0;36m_read\u001b[1;34m(filepath_or_buffer, kwds)\u001b[0m\n\u001b[0;32m    574\u001b[0m _validate_names(kwds\u001b[38;5;241m.\u001b[39mget(\u001b[38;5;124m\"\u001b[39m\u001b[38;5;124mnames\u001b[39m\u001b[38;5;124m\"\u001b[39m, \u001b[38;5;28;01mNone\u001b[39;00m))\n\u001b[0;32m    576\u001b[0m \u001b[38;5;66;03m# Create the parser.\u001b[39;00m\n\u001b[1;32m--> 577\u001b[0m parser \u001b[38;5;241m=\u001b[39m \u001b[43mTextFileReader\u001b[49m\u001b[43m(\u001b[49m\u001b[43mfilepath_or_buffer\u001b[49m\u001b[43m,\u001b[49m\u001b[43m \u001b[49m\u001b[38;5;241;43m*\u001b[39;49m\u001b[38;5;241;43m*\u001b[39;49m\u001b[43mkwds\u001b[49m\u001b[43m)\u001b[49m\n\u001b[0;32m    579\u001b[0m \u001b[38;5;28;01mif\u001b[39;00m chunksize \u001b[38;5;129;01mor\u001b[39;00m iterator:\n\u001b[0;32m    580\u001b[0m     \u001b[38;5;28;01mreturn\u001b[39;00m parser\n",
      "File \u001b[1;32m~\\AppData\\Local\\Packages\\PythonSoftwareFoundation.Python.3.11_qbz5n2kfra8p0\\LocalCache\\local-packages\\Python311\\site-packages\\pandas\\io\\parsers\\readers.py:1407\u001b[0m, in \u001b[0;36mTextFileReader.__init__\u001b[1;34m(self, f, engine, **kwds)\u001b[0m\n\u001b[0;32m   1404\u001b[0m     \u001b[38;5;28mself\u001b[39m\u001b[38;5;241m.\u001b[39moptions[\u001b[38;5;124m\"\u001b[39m\u001b[38;5;124mhas_index_names\u001b[39m\u001b[38;5;124m\"\u001b[39m] \u001b[38;5;241m=\u001b[39m kwds[\u001b[38;5;124m\"\u001b[39m\u001b[38;5;124mhas_index_names\u001b[39m\u001b[38;5;124m\"\u001b[39m]\n\u001b[0;32m   1406\u001b[0m \u001b[38;5;28mself\u001b[39m\u001b[38;5;241m.\u001b[39mhandles: IOHandles \u001b[38;5;241m|\u001b[39m \u001b[38;5;28;01mNone\u001b[39;00m \u001b[38;5;241m=\u001b[39m \u001b[38;5;28;01mNone\u001b[39;00m\n\u001b[1;32m-> 1407\u001b[0m \u001b[38;5;28mself\u001b[39m\u001b[38;5;241m.\u001b[39m_engine \u001b[38;5;241m=\u001b[39m \u001b[38;5;28;43mself\u001b[39;49m\u001b[38;5;241;43m.\u001b[39;49m\u001b[43m_make_engine\u001b[49m\u001b[43m(\u001b[49m\u001b[43mf\u001b[49m\u001b[43m,\u001b[49m\u001b[43m \u001b[49m\u001b[38;5;28;43mself\u001b[39;49m\u001b[38;5;241;43m.\u001b[39;49m\u001b[43mengine\u001b[49m\u001b[43m)\u001b[49m\n",
      "File \u001b[1;32m~\\AppData\\Local\\Packages\\PythonSoftwareFoundation.Python.3.11_qbz5n2kfra8p0\\LocalCache\\local-packages\\Python311\\site-packages\\pandas\\io\\parsers\\readers.py:1661\u001b[0m, in \u001b[0;36mTextFileReader._make_engine\u001b[1;34m(self, f, engine)\u001b[0m\n\u001b[0;32m   1659\u001b[0m     \u001b[38;5;28;01mif\u001b[39;00m \u001b[38;5;124m\"\u001b[39m\u001b[38;5;124mb\u001b[39m\u001b[38;5;124m\"\u001b[39m \u001b[38;5;129;01mnot\u001b[39;00m \u001b[38;5;129;01min\u001b[39;00m mode:\n\u001b[0;32m   1660\u001b[0m         mode \u001b[38;5;241m+\u001b[39m\u001b[38;5;241m=\u001b[39m \u001b[38;5;124m\"\u001b[39m\u001b[38;5;124mb\u001b[39m\u001b[38;5;124m\"\u001b[39m\n\u001b[1;32m-> 1661\u001b[0m \u001b[38;5;28mself\u001b[39m\u001b[38;5;241m.\u001b[39mhandles \u001b[38;5;241m=\u001b[39m \u001b[43mget_handle\u001b[49m\u001b[43m(\u001b[49m\n\u001b[0;32m   1662\u001b[0m \u001b[43m    \u001b[49m\u001b[43mf\u001b[49m\u001b[43m,\u001b[49m\n\u001b[0;32m   1663\u001b[0m \u001b[43m    \u001b[49m\u001b[43mmode\u001b[49m\u001b[43m,\u001b[49m\n\u001b[0;32m   1664\u001b[0m \u001b[43m    \u001b[49m\u001b[43mencoding\u001b[49m\u001b[38;5;241;43m=\u001b[39;49m\u001b[38;5;28;43mself\u001b[39;49m\u001b[38;5;241;43m.\u001b[39;49m\u001b[43moptions\u001b[49m\u001b[38;5;241;43m.\u001b[39;49m\u001b[43mget\u001b[49m\u001b[43m(\u001b[49m\u001b[38;5;124;43m\"\u001b[39;49m\u001b[38;5;124;43mencoding\u001b[39;49m\u001b[38;5;124;43m\"\u001b[39;49m\u001b[43m,\u001b[49m\u001b[43m \u001b[49m\u001b[38;5;28;43;01mNone\u001b[39;49;00m\u001b[43m)\u001b[49m\u001b[43m,\u001b[49m\n\u001b[0;32m   1665\u001b[0m \u001b[43m    \u001b[49m\u001b[43mcompression\u001b[49m\u001b[38;5;241;43m=\u001b[39;49m\u001b[38;5;28;43mself\u001b[39;49m\u001b[38;5;241;43m.\u001b[39;49m\u001b[43moptions\u001b[49m\u001b[38;5;241;43m.\u001b[39;49m\u001b[43mget\u001b[49m\u001b[43m(\u001b[49m\u001b[38;5;124;43m\"\u001b[39;49m\u001b[38;5;124;43mcompression\u001b[39;49m\u001b[38;5;124;43m\"\u001b[39;49m\u001b[43m,\u001b[49m\u001b[43m \u001b[49m\u001b[38;5;28;43;01mNone\u001b[39;49;00m\u001b[43m)\u001b[49m\u001b[43m,\u001b[49m\n\u001b[0;32m   1666\u001b[0m \u001b[43m    \u001b[49m\u001b[43mmemory_map\u001b[49m\u001b[38;5;241;43m=\u001b[39;49m\u001b[38;5;28;43mself\u001b[39;49m\u001b[38;5;241;43m.\u001b[39;49m\u001b[43moptions\u001b[49m\u001b[38;5;241;43m.\u001b[39;49m\u001b[43mget\u001b[49m\u001b[43m(\u001b[49m\u001b[38;5;124;43m\"\u001b[39;49m\u001b[38;5;124;43mmemory_map\u001b[39;49m\u001b[38;5;124;43m\"\u001b[39;49m\u001b[43m,\u001b[49m\u001b[43m \u001b[49m\u001b[38;5;28;43;01mFalse\u001b[39;49;00m\u001b[43m)\u001b[49m\u001b[43m,\u001b[49m\n\u001b[0;32m   1667\u001b[0m \u001b[43m    \u001b[49m\u001b[43mis_text\u001b[49m\u001b[38;5;241;43m=\u001b[39;49m\u001b[43mis_text\u001b[49m\u001b[43m,\u001b[49m\n\u001b[0;32m   1668\u001b[0m \u001b[43m    \u001b[49m\u001b[43merrors\u001b[49m\u001b[38;5;241;43m=\u001b[39;49m\u001b[38;5;28;43mself\u001b[39;49m\u001b[38;5;241;43m.\u001b[39;49m\u001b[43moptions\u001b[49m\u001b[38;5;241;43m.\u001b[39;49m\u001b[43mget\u001b[49m\u001b[43m(\u001b[49m\u001b[38;5;124;43m\"\u001b[39;49m\u001b[38;5;124;43mencoding_errors\u001b[39;49m\u001b[38;5;124;43m\"\u001b[39;49m\u001b[43m,\u001b[49m\u001b[43m \u001b[49m\u001b[38;5;124;43m\"\u001b[39;49m\u001b[38;5;124;43mstrict\u001b[39;49m\u001b[38;5;124;43m\"\u001b[39;49m\u001b[43m)\u001b[49m\u001b[43m,\u001b[49m\n\u001b[0;32m   1669\u001b[0m \u001b[43m    \u001b[49m\u001b[43mstorage_options\u001b[49m\u001b[38;5;241;43m=\u001b[39;49m\u001b[38;5;28;43mself\u001b[39;49m\u001b[38;5;241;43m.\u001b[39;49m\u001b[43moptions\u001b[49m\u001b[38;5;241;43m.\u001b[39;49m\u001b[43mget\u001b[49m\u001b[43m(\u001b[49m\u001b[38;5;124;43m\"\u001b[39;49m\u001b[38;5;124;43mstorage_options\u001b[39;49m\u001b[38;5;124;43m\"\u001b[39;49m\u001b[43m,\u001b[49m\u001b[43m \u001b[49m\u001b[38;5;28;43;01mNone\u001b[39;49;00m\u001b[43m)\u001b[49m\u001b[43m,\u001b[49m\n\u001b[0;32m   1670\u001b[0m \u001b[43m\u001b[49m\u001b[43m)\u001b[49m\n\u001b[0;32m   1671\u001b[0m \u001b[38;5;28;01massert\u001b[39;00m \u001b[38;5;28mself\u001b[39m\u001b[38;5;241m.\u001b[39mhandles \u001b[38;5;129;01mis\u001b[39;00m \u001b[38;5;129;01mnot\u001b[39;00m \u001b[38;5;28;01mNone\u001b[39;00m\n\u001b[0;32m   1672\u001b[0m f \u001b[38;5;241m=\u001b[39m \u001b[38;5;28mself\u001b[39m\u001b[38;5;241m.\u001b[39mhandles\u001b[38;5;241m.\u001b[39mhandle\n",
      "File \u001b[1;32m~\\AppData\\Local\\Packages\\PythonSoftwareFoundation.Python.3.11_qbz5n2kfra8p0\\LocalCache\\local-packages\\Python311\\site-packages\\pandas\\io\\common.py:859\u001b[0m, in \u001b[0;36mget_handle\u001b[1;34m(path_or_buf, mode, encoding, compression, memory_map, is_text, errors, storage_options)\u001b[0m\n\u001b[0;32m    854\u001b[0m \u001b[38;5;28;01melif\u001b[39;00m \u001b[38;5;28misinstance\u001b[39m(handle, \u001b[38;5;28mstr\u001b[39m):\n\u001b[0;32m    855\u001b[0m     \u001b[38;5;66;03m# Check whether the filename is to be opened in binary mode.\u001b[39;00m\n\u001b[0;32m    856\u001b[0m     \u001b[38;5;66;03m# Binary mode does not support 'encoding' and 'newline'.\u001b[39;00m\n\u001b[0;32m    857\u001b[0m     \u001b[38;5;28;01mif\u001b[39;00m ioargs\u001b[38;5;241m.\u001b[39mencoding \u001b[38;5;129;01mand\u001b[39;00m \u001b[38;5;124m\"\u001b[39m\u001b[38;5;124mb\u001b[39m\u001b[38;5;124m\"\u001b[39m \u001b[38;5;129;01mnot\u001b[39;00m \u001b[38;5;129;01min\u001b[39;00m ioargs\u001b[38;5;241m.\u001b[39mmode:\n\u001b[0;32m    858\u001b[0m         \u001b[38;5;66;03m# Encoding\u001b[39;00m\n\u001b[1;32m--> 859\u001b[0m         handle \u001b[38;5;241m=\u001b[39m \u001b[38;5;28;43mopen\u001b[39;49m\u001b[43m(\u001b[49m\n\u001b[0;32m    860\u001b[0m \u001b[43m            \u001b[49m\u001b[43mhandle\u001b[49m\u001b[43m,\u001b[49m\n\u001b[0;32m    861\u001b[0m \u001b[43m            \u001b[49m\u001b[43mioargs\u001b[49m\u001b[38;5;241;43m.\u001b[39;49m\u001b[43mmode\u001b[49m\u001b[43m,\u001b[49m\n\u001b[0;32m    862\u001b[0m \u001b[43m            \u001b[49m\u001b[43mencoding\u001b[49m\u001b[38;5;241;43m=\u001b[39;49m\u001b[43mioargs\u001b[49m\u001b[38;5;241;43m.\u001b[39;49m\u001b[43mencoding\u001b[49m\u001b[43m,\u001b[49m\n\u001b[0;32m    863\u001b[0m \u001b[43m            \u001b[49m\u001b[43merrors\u001b[49m\u001b[38;5;241;43m=\u001b[39;49m\u001b[43merrors\u001b[49m\u001b[43m,\u001b[49m\n\u001b[0;32m    864\u001b[0m \u001b[43m            \u001b[49m\u001b[43mnewline\u001b[49m\u001b[38;5;241;43m=\u001b[39;49m\u001b[38;5;124;43m\"\u001b[39;49m\u001b[38;5;124;43m\"\u001b[39;49m\u001b[43m,\u001b[49m\n\u001b[0;32m    865\u001b[0m \u001b[43m        \u001b[49m\u001b[43m)\u001b[49m\n\u001b[0;32m    866\u001b[0m     \u001b[38;5;28;01melse\u001b[39;00m:\n\u001b[0;32m    867\u001b[0m         \u001b[38;5;66;03m# Binary mode\u001b[39;00m\n\u001b[0;32m    868\u001b[0m         handle \u001b[38;5;241m=\u001b[39m \u001b[38;5;28mopen\u001b[39m(handle, ioargs\u001b[38;5;241m.\u001b[39mmode)\n",
      "\u001b[1;31mFileNotFoundError\u001b[0m: [Errno 2] No such file or directory: 'file1.csv'"
     ]
    }
   ],
   "source": [
    "df_ = (list(pd.read_csv('file1.csv')['tweet']))\n",
    "len(df_)"
   ]
  },
  {
   "cell_type": "code",
   "execution_count": null,
   "metadata": {},
   "outputs": [
    {
     "name": "stdout",
     "output_type": "stream",
     "text": [
      "612\n",
      "923\n",
      "1242\n",
      "1561\n",
      "1830\n",
      "2143\n",
      "2395\n",
      "2714\n",
      "2958\n"
     ]
    }
   ],
   "source": [
    "for i in range(2, 13):\n",
    "    df_ += (list(pd.read_csv('file' + str(i) + '.csv')['tweet']))\n",
    "    print(len(df_))"
   ]
  },
  {
   "cell_type": "code",
   "execution_count": 114,
   "metadata": {},
   "outputs": [
    {
     "data": {
      "text/plain": [
       "2151"
      ]
     },
     "execution_count": 114,
     "metadata": {},
     "output_type": "execute_result"
    }
   ],
   "source": [
    "len(set(df_))"
   ]
  },
  {
   "cell_type": "code",
   "execution_count": 8,
   "metadata": {},
   "outputs": [],
   "source": [
    "url = \"https://x.com/search?q=%23الذكاء_الاصطناعى%20since%3A2023-01-01%20until%3A2023-01-31&src=typed_query&f=live&geocode=24.7136,46.6753,1000km\"\n",
    "driver.get(url)"
   ]
  },
  {
   "cell_type": "code",
   "execution_count": 26,
   "metadata": {},
   "outputs": [
    {
     "name": "stdout",
     "output_type": "stream",
     "text": [
      "<class 'list'>\n",
      "74\n",
      "68\n"
     ]
    }
   ],
   "source": [
    "tweets = all_data['tweet']\n",
    "print(type(tweets))\n",
    "print(len(tweets))\n",
    "print(len(set(tweets)))"
   ]
  },
  {
   "cell_type": "code",
   "execution_count": 5,
   "metadata": {},
   "outputs": [],
   "source": [
    "driver.get(\"https://x.com/search?q=%23الذكاء_الاصطناعى%20since%3A2023-01-01%20until%3A2023-01-31&src=typed_query&f=live&geocode=24.7136,46.6753,1000km\"\n",
    ")\n",
    "time.sleep(3)"
   ]
  },
  {
   "cell_type": "code",
   "execution_count": 7,
   "metadata": {},
   "outputs": [
    {
     "data": {
      "text/plain": [
       "3"
      ]
     },
     "execution_count": 7,
     "metadata": {},
     "output_type": "execute_result"
    }
   ],
   "source": [
    "tweet_data = []\n",
    "last_height = driver.execute_script(\"return document.body.scrollHeight\")\n",
    "\n",
    "i = 0\n",
    "\n",
    "while True:\n",
    "    # get_tweet_data(driver, all_data)\n",
    "    # Scroll down\n",
    "    driver.execute_script(\"window.scrollTo(0, document.body.scrollHeight);\")\n",
    "    time.sleep(3)\n",
    "    # Calculate new scroll height and compare with last height\n",
    "    new_height = driver.execute_script(\"return document.body.scrollHeight\")\n",
    "    if new_height == last_height:\n",
    "        break\n",
    "    last_height = new_height\n",
    "    i+=1\n",
    "    if i==2:\n",
    "        break\n",
    "\n",
    "tweets = driver.find_elements(By.XPATH, '//article[@data-testid=\"tweet\"]')\n",
    "len(tweets)"
   ]
  },
  {
   "cell_type": "code",
   "execution_count": 8,
   "metadata": {},
   "outputs": [
    {
     "name": "stdout",
     "output_type": "stream",
     "text": [
      "Error processing tweet: name 'hashtag' is not defined\n",
      "Error processing tweet: name 'hashtag' is not defined\n",
      "Error processing tweet: name 'hashtag' is not defined\n"
     ]
    }
   ],
   "source": [
    "import re\n",
    "from selenium.webdriver.common.by import By\n",
    "from selenium.common.exceptions import NoSuchElementException\n",
    "\n",
    "for tweet in tweets:\n",
    "    try:\n",
    "        # Extract tweet text\n",
    "        content_element = tweet.find_element(By.XPATH, './/div[@lang]')\n",
    "        content = content_element.text\n",
    "\n",
    "        # Extract hashtags\n",
    "        hashtags_elements = content_element.find_elements(By.XPATH, './/a[contains(@href, '/hashtag/')]')\n",
    "        hashtags = [hashtag.text for hashtag in hashtags_elements]\n",
    "\n",
    "        # Extract number of likes\n",
    "        try:\n",
    "            like_button = tweet.find_element(By.XPATH, './/button[@data-testid=\"like\"]')\n",
    "            aria_label = like_button.get_attribute('aria-label')\n",
    "            match = re.search(r'^(\\d+)', aria_label)\n",
    "            like_count = match.group(1) if match else '0'\n",
    "        except Exception as e:\n",
    "            like_count = '0'\n",
    "            print(f'Error extracting like count: {e}')\n",
    "\n",
    "        # Extract number of retweets\n",
    "        try:\n",
    "            retweet_button = tweet.find_element(By.XPATH, './/button[@data-testid=\"retweet\"]')\n",
    "            aria_label = retweet_button.get_attribute('aria-label')\n",
    "            match = re.search(r'^(\\d+)', aria_label)\n",
    "            retweet_count = match.group(1) if match else '0'\n",
    "        except Exception as e:\n",
    "            retweet_count = '0'\n",
    "            print(f'Error extracting retweet count: {e}')\n",
    "\n",
    "        # Extract the tweet URL\n",
    "        try:\n",
    "            tweet_link = tweet.find_element(By.XPATH, \".//a[contains(@href, '/status/') and @role='link']\")\n",
    "            href = tweet_link.get_attribute('href')\n",
    "            if href.startswith('/'):\n",
    "                full_url = 'https://x.com' + href\n",
    "            else:\n",
    "                full_url = href\n",
    "            print(f'Tweet URL: {full_url}')\n",
    "        except NoSuchElementException:\n",
    "            full_url = None\n",
    "            print('Tweet URL not found.')\n",
    "\n",
    "        # Print the extracted data\n",
    "        print(f'وسمُ التَّغريدة: {\", \".join(hashtags)}')\n",
    "        print(f'نصُّ التَّغريدة: {content}')\n",
    "        print(f'عددُ مرَّات إعادة التَّغريدة: {retweet_count}')\n",
    "        print(f'عددُ مرَّات الاعجاب بالتَّغريدة: {like_count}')\n",
    "        print('-' * 80)\n",
    "\n",
    "    except Exception as e:\n",
    "        print(f'Error processing tweet: {e}')\n"
   ]
  },
  {
   "cell_type": "code",
   "execution_count": null,
   "metadata": {},
   "outputs": [
    {
     "name": "stdout",
     "output_type": "stream",
     "text": [
      "وسمُ التَّغريدة: #الذكاء_الاصطناعي, #الطب\n",
      "================================================================================\n",
      "نصُّ التَّغريدة: تم اختبار بروتين مضاد للميكروبات مصمم ب #الذكاء_الاصطناعي  في الحياة الواقعية وثبت أنه يعمل. \n",
      "ProGen تم تدريبه على الأحماض الأمينية ل 280 مليون بروتين. تفاعل معها  بطرق تشير إلى أنها يمكن أن تكون فعالة في قتل البكتيريا. يمكن استخدام نفس النهج لإنشاء أدوية جديدة. \n",
      "#الطب\n",
      "عددُ مرَّات إعادة التَّغريدة: 2\n",
      "عددُ مرَّات الاعجاب بالتَّغريدة: 3\n",
      "--------------------------------------------------------------------------------\n",
      "وسمُ التَّغريدة: #الذكاء_الاصطناعي\n",
      "================================================================================\n",
      "نصُّ التَّغريدة: تحول واضح من قبل كبرى شركات الاعلام للانتقال للذكاء الاصطناعي!\n",
      "\n",
      "اليوم شركة CNET المختصة باخبار التقنية \n",
      "كشفت انها اعتمدت على #الذكاء_الاصطناعي لكتابة 77 مقالة منذ نوفمبر الماضي وهذا يعني 1% من اجمالي المقالات!\n",
      "عددُ مرَّات إعادة التَّغريدة: 0\n",
      "عددُ مرَّات الاعجاب بالتَّغريدة: 1\n",
      "--------------------------------------------------------------------------------\n",
      "وسمُ التَّغريدة: #تقارير_ميدار, #جوجل, #الذكاء_الاصطناعي\n",
      "================================================================================\n",
      "نصُّ التَّغريدة: #تقارير_ميدار\n",
      "\n",
      "#جوجل تحول النصوص والأصوات إلى موسيقى\n",
      "\n",
      "#الذكاء_الاصطناعي يأخذ بيد من يفتقدون العزف أو التأليف الموسيقى\n",
      "\n",
      "وفي نهاية المطاف سيظل الموهوب فطرياً أقوى من الجميع\n",
      "عددُ مرَّات إعادة التَّغريدة: 2\n",
      "عددُ مرَّات الاعجاب بالتَّغريدة: 8\n",
      "--------------------------------------------------------------------------------\n"
     ]
    }
   ],
   "source": []
  },
  {
   "cell_type": "code",
   "execution_count": 8,
   "metadata": {},
   "outputs": [
    {
     "name": "stdout",
     "output_type": "stream",
     "text": [
      "Collecting unstructured[all-docs]\n",
      "  Obtaining dependency information for unstructured[all-docs] from https://files.pythonhosted.org/packages/fa/60/0f628f29779c1c88bfb930eee39460819e3cc868a017dda35c5717ce3f67/unstructured-0.16.5-py3-none-any.whl.metadata\n",
      "  Using cached unstructured-0.16.5-py3-none-any.whl.metadata (24 kB)\n",
      "Requirement already satisfied: chardet in c:\\users\\ar3935\\appdata\\local\\packages\\pythonsoftwarefoundation.python.3.11_qbz5n2kfra8p0\\localcache\\local-packages\\python311\\site-packages (from unstructured[all-docs]) (3.0.4)\n",
      "Requirement already satisfied: filetype in c:\\users\\ar3935\\appdata\\local\\packages\\pythonsoftwarefoundation.python.3.11_qbz5n2kfra8p0\\localcache\\local-packages\\python311\\site-packages (from unstructured[all-docs]) (1.2.0)\n",
      "Requirement already satisfied: python-magic in c:\\users\\ar3935\\appdata\\local\\packages\\pythonsoftwarefoundation.python.3.11_qbz5n2kfra8p0\\localcache\\local-packages\\python311\\site-packages (from unstructured[all-docs]) (0.4.27)\n",
      "Requirement already satisfied: lxml in c:\\users\\ar3935\\appdata\\local\\packages\\pythonsoftwarefoundation.python.3.11_qbz5n2kfra8p0\\localcache\\local-packages\\python311\\site-packages (from unstructured[all-docs]) (5.3.0)\n",
      "Collecting nltk (from unstructured[all-docs])\n",
      "  Obtaining dependency information for nltk from https://files.pythonhosted.org/packages/4d/66/7d9e26593edda06e8cb531874633f7c2372279c3b0f46235539fe546df8b/nltk-3.9.1-py3-none-any.whl.metadata\n",
      "  Using cached nltk-3.9.1-py3-none-any.whl.metadata (2.9 kB)\n",
      "Requirement already satisfied: requests in c:\\users\\ar3935\\appdata\\local\\packages\\pythonsoftwarefoundation.python.3.11_qbz5n2kfra8p0\\localcache\\local-packages\\python311\\site-packages (from unstructured[all-docs]) (2.31.0)\n",
      "Requirement already satisfied: beautifulsoup4 in c:\\users\\ar3935\\appdata\\local\\packages\\pythonsoftwarefoundation.python.3.11_qbz5n2kfra8p0\\localcache\\local-packages\\python311\\site-packages (from unstructured[all-docs]) (4.12.3)\n",
      "Collecting emoji (from unstructured[all-docs])\n",
      "  Obtaining dependency information for emoji from https://files.pythonhosted.org/packages/ef/56/4ddf8b36aa4b52077045b17ffb8958f3360b250df4143d1482d9d5bb54d5/emoji-2.14.0-py3-none-any.whl.metadata\n",
      "  Using cached emoji-2.14.0-py3-none-any.whl.metadata (5.7 kB)\n",
      "Requirement already satisfied: dataclasses-json in c:\\users\\ar3935\\appdata\\local\\packages\\pythonsoftwarefoundation.python.3.11_qbz5n2kfra8p0\\localcache\\local-packages\\python311\\site-packages (from unstructured[all-docs]) (0.6.4)\n",
      "Requirement already satisfied: python-iso639 in c:\\users\\ar3935\\appdata\\local\\packages\\pythonsoftwarefoundation.python.3.11_qbz5n2kfra8p0\\localcache\\local-packages\\python311\\site-packages (from unstructured[all-docs]) (2024.10.22)\n",
      "Collecting langdetect (from unstructured[all-docs])\n",
      "  Using cached langdetect-1.0.9-py3-none-any.whl\n",
      "Requirement already satisfied: numpy<2 in c:\\users\\ar3935\\appdata\\local\\packages\\pythonsoftwarefoundation.python.3.11_qbz5n2kfra8p0\\localcache\\local-packages\\python311\\site-packages (from unstructured[all-docs]) (1.26.1)\n",
      "Requirement already satisfied: rapidfuzz in c:\\users\\ar3935\\appdata\\local\\packages\\pythonsoftwarefoundation.python.3.11_qbz5n2kfra8p0\\localcache\\local-packages\\python311\\site-packages (from unstructured[all-docs]) (3.10.1)\n",
      "Collecting backoff (from unstructured[all-docs])\n",
      "  Obtaining dependency information for backoff from https://files.pythonhosted.org/packages/df/73/b6e24bd22e6720ca8ee9a85a0c4a2971af8497d8f3193fa05390cbd46e09/backoff-2.2.1-py3-none-any.whl.metadata\n",
      "  Using cached backoff-2.2.1-py3-none-any.whl.metadata (14 kB)\n",
      "Requirement already satisfied: typing-extensions in c:\\users\\ar3935\\appdata\\local\\packages\\pythonsoftwarefoundation.python.3.11_qbz5n2kfra8p0\\localcache\\local-packages\\python311\\site-packages (from unstructured[all-docs]) (4.12.2)\n",
      "Collecting unstructured-client (from unstructured[all-docs])\n",
      "  Obtaining dependency information for unstructured-client from https://files.pythonhosted.org/packages/71/a1/61cdeb2cde78c690de35694b855962f3af4b7fa79a27360c854d266fda13/unstructured_client-0.27.0-py3-none-any.whl.metadata\n",
      "  Using cached unstructured_client-0.27.0-py3-none-any.whl.metadata (20 kB)\n",
      "Requirement already satisfied: wrapt in c:\\users\\ar3935\\appdata\\local\\packages\\pythonsoftwarefoundation.python.3.11_qbz5n2kfra8p0\\localcache\\local-packages\\python311\\site-packages (from unstructured[all-docs]) (1.16.0)\n",
      "Requirement already satisfied: tqdm in c:\\users\\ar3935\\appdata\\local\\packages\\pythonsoftwarefoundation.python.3.11_qbz5n2kfra8p0\\localcache\\local-packages\\python311\\site-packages (from unstructured[all-docs]) (4.66.1)\n",
      "Requirement already satisfied: psutil in c:\\users\\ar3935\\appdata\\local\\packages\\pythonsoftwarefoundation.python.3.11_qbz5n2kfra8p0\\localcache\\local-packages\\python311\\site-packages (from unstructured[all-docs]) (5.9.5)\n",
      "Collecting python-oxmsg (from unstructured[all-docs])\n",
      "  Obtaining dependency information for python-oxmsg from https://files.pythonhosted.org/packages/d4/c8/fb23e1e7723ba9200b75bc121f22f67498ae098a202f1646acc4f6a54f5c/python_oxmsg-0.0.1-py3-none-any.whl.metadata\n",
      "  Using cached python_oxmsg-0.0.1-py3-none-any.whl.metadata (5.0 kB)\n",
      "Collecting html5lib (from unstructured[all-docs])\n",
      "  Obtaining dependency information for html5lib from https://files.pythonhosted.org/packages/6c/dd/a834df6482147d48e225a49515aabc28974ad5a4ca3215c18a882565b028/html5lib-1.1-py2.py3-none-any.whl.metadata\n",
      "  Using cached html5lib-1.1-py2.py3-none-any.whl.metadata (16 kB)\n",
      "Collecting pdfminer.six (from unstructured[all-docs])\n",
      "  Obtaining dependency information for pdfminer.six from https://files.pythonhosted.org/packages/67/7d/44d6b90e5a293d3a975cefdc4e12a932ebba814995b2a07e37e599dd27c6/pdfminer.six-20240706-py3-none-any.whl.metadata\n",
      "  Using cached pdfminer.six-20240706-py3-none-any.whl.metadata (4.1 kB)\n",
      "Collecting markdown (from unstructured[all-docs])\n",
      "  Obtaining dependency information for markdown from https://files.pythonhosted.org/packages/3f/08/83871f3c50fc983b88547c196d11cf8c3340e37c32d2e9d6152abe2c61f7/Markdown-3.7-py3-none-any.whl.metadata\n",
      "  Using cached Markdown-3.7-py3-none-any.whl.metadata (7.0 kB)\n",
      "Requirement already satisfied: xlrd in c:\\users\\ar3935\\appdata\\local\\packages\\pythonsoftwarefoundation.python.3.11_qbz5n2kfra8p0\\localcache\\local-packages\\python311\\site-packages (from unstructured[all-docs]) (2.0.1)\n",
      "Collecting pdf2image (from unstructured[all-docs])\n",
      "  Obtaining dependency information for pdf2image from https://files.pythonhosted.org/packages/62/33/61766ae033518957f877ab246f87ca30a85b778ebaad65b7f74fa7e52988/pdf2image-1.17.0-py3-none-any.whl.metadata\n",
      "  Using cached pdf2image-1.17.0-py3-none-any.whl.metadata (6.2 kB)\n",
      "Collecting onnx (from unstructured[all-docs])\n",
      "  Obtaining dependency information for onnx from https://files.pythonhosted.org/packages/51/a5/19b0dfcb567b62e7adf1a21b08b23224f0c2d13842aee4d0abc6f07f9cf5/onnx-1.17.0-cp311-cp311-win_amd64.whl.metadata\n",
      "  Using cached onnx-1.17.0-cp311-cp311-win_amd64.whl.metadata (16 kB)\n",
      "Collecting pi-heif (from unstructured[all-docs])\n",
      "  Obtaining dependency information for pi-heif from https://files.pythonhosted.org/packages/1e/72/f17839e3f7d029b2cbda547d2df6931ea914f708de533528f700fb39b0df/pi_heif-0.20.0-cp311-cp311-win_amd64.whl.metadata\n",
      "  Using cached pi_heif-0.20.0-cp311-cp311-win_amd64.whl.metadata (6.7 kB)\n",
      "Collecting unstructured-inference==0.8.1 (from unstructured[all-docs])\n",
      "  Obtaining dependency information for unstructured-inference==0.8.1 from https://files.pythonhosted.org/packages/d5/f1/66af1f6feb219917ad10ac8815ce9c10441d5dc63ba4d660fc4f54dce37e/unstructured_inference-0.8.1-py3-none-any.whl.metadata\n",
      "  Using cached unstructured_inference-0.8.1-py3-none-any.whl.metadata (5.9 kB)\n",
      "Collecting networkx (from unstructured[all-docs])\n",
      "  Obtaining dependency information for networkx from https://files.pythonhosted.org/packages/b9/54/dd730b32ea14ea797530a4479b2ed46a6fb250f682a9cfb997e968bf0261/networkx-3.4.2-py3-none-any.whl.metadata\n",
      "  Using cached networkx-3.4.2-py3-none-any.whl.metadata (6.3 kB)\n",
      "Collecting effdet (from unstructured[all-docs])\n",
      "  Obtaining dependency information for effdet from https://files.pythonhosted.org/packages/9c/13/563119fe0af82aca5a3b89399c435953072c39515c2e818eb82793955c3b/effdet-0.4.1-py3-none-any.whl.metadata\n",
      "  Using cached effdet-0.4.1-py3-none-any.whl.metadata (33 kB)\n",
      "Requirement already satisfied: openpyxl in c:\\users\\ar3935\\appdata\\local\\packages\\pythonsoftwarefoundation.python.3.11_qbz5n2kfra8p0\\localcache\\local-packages\\python311\\site-packages (from unstructured[all-docs]) (3.1.5)\n",
      "Collecting python-docx>=1.1.2 (from unstructured[all-docs])\n",
      "  Obtaining dependency information for python-docx>=1.1.2 from https://files.pythonhosted.org/packages/3e/3d/330d9efbdb816d3f60bf2ad92f05e1708e4a1b9abe80461ac3444c83f749/python_docx-1.1.2-py3-none-any.whl.metadata\n",
      "  Using cached python_docx-1.1.2-py3-none-any.whl.metadata (2.0 kB)\n",
      "Collecting pikepdf (from unstructured[all-docs])\n",
      "  Obtaining dependency information for pikepdf from https://files.pythonhosted.org/packages/12/ed/f47a03061d25449e8c7080da499c81f529894289640db67632ed0d8dc8f3/pikepdf-9.4.0-cp311-cp311-win_amd64.whl.metadata\n",
      "  Using cached pikepdf-9.4.0-cp311-cp311-win_amd64.whl.metadata (8.4 kB)\n",
      "Requirement already satisfied: pypdf in c:\\users\\ar3935\\appdata\\local\\packages\\pythonsoftwarefoundation.python.3.11_qbz5n2kfra8p0\\localcache\\local-packages\\python311\\site-packages (from unstructured[all-docs]) (5.1.0)\n",
      "Collecting google-cloud-vision (from unstructured[all-docs])\n",
      "  Obtaining dependency information for google-cloud-vision from https://files.pythonhosted.org/packages/98/ba/643d10c3bdca314aca9f1f9fc94a485a774c4a2b85355842ea8bb853a75f/google_cloud_vision-3.8.0-py2.py3-none-any.whl.metadata\n",
      "  Using cached google_cloud_vision-3.8.0-py2.py3-none-any.whl.metadata (5.3 kB)\n",
      "Collecting python-pptx>=1.0.1 (from unstructured[all-docs])\n",
      "  Obtaining dependency information for python-pptx>=1.0.1 from https://files.pythonhosted.org/packages/d9/4f/00be2196329ebbff56ce564aa94efb0fbc828d00de250b1980de1a34ab49/python_pptx-1.0.2-py3-none-any.whl.metadata\n",
      "  Using cached python_pptx-1.0.2-py3-none-any.whl.metadata (2.5 kB)\n",
      "Requirement already satisfied: pypandoc in c:\\users\\ar3935\\appdata\\local\\packages\\pythonsoftwarefoundation.python.3.11_qbz5n2kfra8p0\\localcache\\local-packages\\python311\\site-packages (from unstructured[all-docs]) (1.14)\n",
      "Requirement already satisfied: pandas in c:\\users\\ar3935\\appdata\\local\\packages\\pythonsoftwarefoundation.python.3.11_qbz5n2kfra8p0\\localcache\\local-packages\\python311\\site-packages (from unstructured[all-docs]) (2.0.3)\n",
      "Collecting unstructured.pytesseract>=0.3.12 (from unstructured[all-docs])\n",
      "  Obtaining dependency information for unstructured.pytesseract>=0.3.12 from https://files.pythonhosted.org/packages/83/d8/8493e147a00a7547af824cd22fc346b9fbcf8739395ffb7ac426d33d6bc5/unstructured.pytesseract-0.3.13-py3-none-any.whl.metadata\n",
      "  Using cached unstructured.pytesseract-0.3.13-py3-none-any.whl.metadata (11 kB)\n",
      "Collecting layoutparser (from unstructured-inference==0.8.1->unstructured[all-docs])\n",
      "  Obtaining dependency information for layoutparser from https://files.pythonhosted.org/packages/08/cf/0bfbea1b2ace91af45e15bdec885e05992dc9150907a8398b3d305eddfd2/layoutparser-0.3.4-py3-none-any.whl.metadata\n",
      "  Using cached layoutparser-0.3.4-py3-none-any.whl.metadata (7.7 kB)\n",
      "Requirement already satisfied: python-multipart in c:\\users\\ar3935\\appdata\\local\\packages\\pythonsoftwarefoundation.python.3.11_qbz5n2kfra8p0\\localcache\\local-packages\\python311\\site-packages (from unstructured-inference==0.8.1->unstructured[all-docs]) (0.0.17)\n",
      "Collecting huggingface-hub (from unstructured-inference==0.8.1->unstructured[all-docs])\n",
      "  Obtaining dependency information for huggingface-hub from https://files.pythonhosted.org/packages/60/bf/cea0b9720c32fa01b0c4ec4b16b9f4ae34ca106b202ebbae9f03ab98cd8f/huggingface_hub-0.26.2-py3-none-any.whl.metadata\n",
      "  Using cached huggingface_hub-0.26.2-py3-none-any.whl.metadata (13 kB)\n",
      "Requirement already satisfied: opencv-python!=4.7.0.68 in c:\\users\\ar3935\\appdata\\local\\packages\\pythonsoftwarefoundation.python.3.11_qbz5n2kfra8p0\\localcache\\local-packages\\python311\\site-packages (from unstructured-inference==0.8.1->unstructured[all-docs]) (4.10.0.84)\n",
      "Collecting onnxruntime>=1.17.0 (from unstructured-inference==0.8.1->unstructured[all-docs])\n",
      "  Obtaining dependency information for onnxruntime>=1.17.0 from https://files.pythonhosted.org/packages/cc/3b/c77a44f4d9bb8a8c776e6c5bed19d0f86ce843495aab80cd34aaba596f5d/onnxruntime-1.20.0-cp311-cp311-win_amd64.whl.metadata\n",
      "  Using cached onnxruntime-1.20.0-cp311-cp311-win_amd64.whl.metadata (4.6 kB)\n",
      "Collecting matplotlib (from unstructured-inference==0.8.1->unstructured[all-docs])\n",
      "  Obtaining dependency information for matplotlib from https://files.pythonhosted.org/packages/8b/ce/15b0bb2fb29b3d46211d8ca740b96b5232499fc49200b58b8d571292c9a6/matplotlib-3.9.2-cp311-cp311-win_amd64.whl.metadata\n",
      "  Using cached matplotlib-3.9.2-cp311-cp311-win_amd64.whl.metadata (11 kB)\n",
      "Collecting torch (from unstructured-inference==0.8.1->unstructured[all-docs])\n",
      "  Obtaining dependency information for torch from https://files.pythonhosted.org/packages/0d/4a/e51420d46cfc90562e85af2fee912237c662ab31140ab179e49bd69401d6/torch-2.5.1-cp311-cp311-win_amd64.whl.metadata\n",
      "  Using cached torch-2.5.1-cp311-cp311-win_amd64.whl.metadata (28 kB)\n",
      "Collecting timm (from unstructured-inference==0.8.1->unstructured[all-docs])\n",
      "  Obtaining dependency information for timm from https://files.pythonhosted.org/packages/77/f7/144d69d921fba82baa8498e279d782a12a13694f45ff74d1777bc3231ffe/timm-1.0.11-py3-none-any.whl.metadata\n",
      "  Using cached timm-1.0.11-py3-none-any.whl.metadata (48 kB)\n",
      "Collecting transformers>=4.25.1 (from unstructured-inference==0.8.1->unstructured[all-docs])\n",
      "  Obtaining dependency information for transformers>=4.25.1 from https://files.pythonhosted.org/packages/ed/ad/c9b96572ab7994e73c64588f8875741823f2daba70e746547fff9a2d9a54/transformers-4.46.2-py3-none-any.whl.metadata\n",
      "  Using cached transformers-4.46.2-py3-none-any.whl.metadata (44 kB)\n",
      "Requirement already satisfied: Pillow>=3.3.2 in c:\\users\\ar3935\\appdata\\local\\packages\\pythonsoftwarefoundation.python.3.11_qbz5n2kfra8p0\\localcache\\local-packages\\python311\\site-packages (from python-pptx>=1.0.1->unstructured[all-docs]) (11.0.0)\n",
      "Requirement already satisfied: XlsxWriter>=0.5.7 in c:\\users\\ar3935\\appdata\\local\\packages\\pythonsoftwarefoundation.python.3.11_qbz5n2kfra8p0\\localcache\\local-packages\\python311\\site-packages (from python-pptx>=1.0.1->unstructured[all-docs]) (3.2.0)\n",
      "Requirement already satisfied: packaging>=21.3 in c:\\users\\ar3935\\appdata\\local\\packages\\pythonsoftwarefoundation.python.3.11_qbz5n2kfra8p0\\localcache\\local-packages\\python311\\site-packages (from unstructured.pytesseract>=0.3.12->unstructured[all-docs]) (23.2)\n",
      "Requirement already satisfied: soupsieve>1.2 in c:\\users\\ar3935\\appdata\\local\\packages\\pythonsoftwarefoundation.python.3.11_qbz5n2kfra8p0\\localcache\\local-packages\\python311\\site-packages (from beautifulsoup4->unstructured[all-docs]) (2.5)\n",
      "Requirement already satisfied: marshmallow<4.0.0,>=3.18.0 in c:\\users\\ar3935\\appdata\\local\\packages\\pythonsoftwarefoundation.python.3.11_qbz5n2kfra8p0\\localcache\\local-packages\\python311\\site-packages (from dataclasses-json->unstructured[all-docs]) (3.20.1)\n",
      "Requirement already satisfied: typing-inspect<1,>=0.4.0 in c:\\users\\ar3935\\appdata\\local\\packages\\pythonsoftwarefoundation.python.3.11_qbz5n2kfra8p0\\localcache\\local-packages\\python311\\site-packages (from dataclasses-json->unstructured[all-docs]) (0.9.0)\n",
      "Collecting torchvision (from effdet->unstructured[all-docs])\n",
      "  Obtaining dependency information for torchvision from https://files.pythonhosted.org/packages/69/55/ce836703ff77bb21582c3098d5311f8ddde7eadc7eab04be9561961f4725/torchvision-0.20.1-cp311-cp311-win_amd64.whl.metadata\n",
      "  Using cached torchvision-0.20.1-cp311-cp311-win_amd64.whl.metadata (6.2 kB)\n",
      "Collecting pycocotools>=2.0.2 (from effdet->unstructured[all-docs])\n",
      "  Obtaining dependency information for pycocotools>=2.0.2 from https://files.pythonhosted.org/packages/2e/f5/dfa78dc72e47dfe1ada7b37fedcb338454750470358a6dfcfdfda35fa337/pycocotools-2.0.8-cp311-cp311-win_amd64.whl.metadata\n",
      "  Using cached pycocotools-2.0.8-cp311-cp311-win_amd64.whl.metadata (1.1 kB)\n",
      "Collecting omegaconf>=2.0 (from effdet->unstructured[all-docs])\n",
      "  Obtaining dependency information for omegaconf>=2.0 from https://files.pythonhosted.org/packages/e3/94/1843518e420fa3ed6919835845df698c7e27e183cb997394e4a670973a65/omegaconf-2.3.0-py3-none-any.whl.metadata\n",
      "  Using cached omegaconf-2.3.0-py3-none-any.whl.metadata (3.9 kB)\n",
      "Requirement already satisfied: google-api-core[grpc]!=2.0.*,!=2.1.*,!=2.10.*,!=2.2.*,!=2.3.*,!=2.4.*,!=2.5.*,!=2.6.*,!=2.7.*,!=2.8.*,!=2.9.*,<3.0.0dev,>=1.34.1 in c:\\users\\ar3935\\appdata\\local\\packages\\pythonsoftwarefoundation.python.3.11_qbz5n2kfra8p0\\localcache\\local-packages\\python311\\site-packages (from google-cloud-vision->unstructured[all-docs]) (2.11.1)\n",
      "Requirement already satisfied: google-auth!=2.24.0,!=2.25.0,<3.0.0dev,>=2.14.1 in c:\\users\\ar3935\\appdata\\local\\packages\\pythonsoftwarefoundation.python.3.11_qbz5n2kfra8p0\\localcache\\local-packages\\python311\\site-packages (from google-cloud-vision->unstructured[all-docs]) (2.22.0)\n",
      "Requirement already satisfied: proto-plus<2.0.0dev,>=1.22.3 in c:\\users\\ar3935\\appdata\\local\\packages\\pythonsoftwarefoundation.python.3.11_qbz5n2kfra8p0\\localcache\\local-packages\\python311\\site-packages (from google-cloud-vision->unstructured[all-docs]) (1.23.0)\n",
      "Requirement already satisfied: protobuf!=4.21.0,!=4.21.1,!=4.21.2,!=4.21.3,!=4.21.4,!=4.21.5,<6.0.0dev,>=3.20.2 in c:\\users\\ar3935\\appdata\\local\\packages\\pythonsoftwarefoundation.python.3.11_qbz5n2kfra8p0\\localcache\\local-packages\\python311\\site-packages (from google-cloud-vision->unstructured[all-docs]) (4.24.2)\n",
      "Requirement already satisfied: six>=1.9 in c:\\users\\ar3935\\appdata\\local\\packages\\pythonsoftwarefoundation.python.3.11_qbz5n2kfra8p0\\localcache\\local-packages\\python311\\site-packages (from html5lib->unstructured[all-docs]) (1.16.0)\n",
      "Requirement already satisfied: webencodings in c:\\users\\ar3935\\appdata\\local\\packages\\pythonsoftwarefoundation.python.3.11_qbz5n2kfra8p0\\localcache\\local-packages\\python311\\site-packages (from html5lib->unstructured[all-docs]) (0.5.1)\n",
      "Requirement already satisfied: click in c:\\users\\ar3935\\appdata\\local\\packages\\pythonsoftwarefoundation.python.3.11_qbz5n2kfra8p0\\localcache\\local-packages\\python311\\site-packages (from nltk->unstructured[all-docs]) (8.1.7)\n",
      "Collecting joblib (from nltk->unstructured[all-docs])\n",
      "  Obtaining dependency information for joblib from https://files.pythonhosted.org/packages/91/29/df4b9b42f2be0b623cbd5e2140cafcaa2bef0759a00b7b70104dcfe2fb51/joblib-1.4.2-py3-none-any.whl.metadata\n",
      "  Using cached joblib-1.4.2-py3-none-any.whl.metadata (5.4 kB)\n",
      "Requirement already satisfied: regex>=2021.8.3 in c:\\users\\ar3935\\appdata\\local\\packages\\pythonsoftwarefoundation.python.3.11_qbz5n2kfra8p0\\localcache\\local-packages\\python311\\site-packages (from nltk->unstructured[all-docs]) (2023.12.25)\n",
      "Requirement already satisfied: et-xmlfile in c:\\users\\ar3935\\appdata\\local\\packages\\pythonsoftwarefoundation.python.3.11_qbz5n2kfra8p0\\localcache\\local-packages\\python311\\site-packages (from openpyxl->unstructured[all-docs]) (2.0.0)\n",
      "Requirement already satisfied: python-dateutil>=2.8.2 in c:\\users\\ar3935\\appdata\\local\\packages\\pythonsoftwarefoundation.python.3.11_qbz5n2kfra8p0\\localcache\\local-packages\\python311\\site-packages (from pandas->unstructured[all-docs]) (2.8.2)\n",
      "Requirement already satisfied: pytz>=2020.1 in c:\\users\\ar3935\\appdata\\local\\packages\\pythonsoftwarefoundation.python.3.11_qbz5n2kfra8p0\\localcache\\local-packages\\python311\\site-packages (from pandas->unstructured[all-docs]) (2023.3.post1)\n",
      "Requirement already satisfied: tzdata>=2022.1 in c:\\users\\ar3935\\appdata\\local\\packages\\pythonsoftwarefoundation.python.3.11_qbz5n2kfra8p0\\localcache\\local-packages\\python311\\site-packages (from pandas->unstructured[all-docs]) (2023.3)\n",
      "Requirement already satisfied: charset-normalizer>=2.0.0 in c:\\users\\ar3935\\appdata\\local\\packages\\pythonsoftwarefoundation.python.3.11_qbz5n2kfra8p0\\localcache\\local-packages\\python311\\site-packages (from pdfminer.six->unstructured[all-docs]) (3.2.0)\n",
      "Requirement already satisfied: cryptography>=36.0.0 in c:\\users\\ar3935\\appdata\\local\\packages\\pythonsoftwarefoundation.python.3.11_qbz5n2kfra8p0\\localcache\\local-packages\\python311\\site-packages (from pdfminer.six->unstructured[all-docs]) (41.0.3)\n",
      "Collecting Deprecated (from pikepdf->unstructured[all-docs])\n",
      "  Obtaining dependency information for Deprecated from https://files.pythonhosted.org/packages/20/8d/778b7d51b981a96554f29136cd59ca7880bf58094338085bcf2a979a0e6a/Deprecated-1.2.14-py2.py3-none-any.whl.metadata\n",
      "  Using cached Deprecated-1.2.14-py2.py3-none-any.whl.metadata (5.4 kB)\n",
      "Collecting olefile (from python-oxmsg->unstructured[all-docs])\n",
      "  Obtaining dependency information for olefile from https://files.pythonhosted.org/packages/17/d3/b64c356a907242d719fc668b71befd73324e47ab46c8ebbbede252c154b2/olefile-0.47-py2.py3-none-any.whl.metadata\n",
      "  Using cached olefile-0.47-py2.py3-none-any.whl.metadata (9.7 kB)\n",
      "Requirement already satisfied: idna<4,>=2.5 in c:\\users\\ar3935\\appdata\\local\\packages\\pythonsoftwarefoundation.python.3.11_qbz5n2kfra8p0\\localcache\\local-packages\\python311\\site-packages (from requests->unstructured[all-docs]) (2.10)\n",
      "Requirement already satisfied: urllib3<3,>=1.21.1 in c:\\users\\ar3935\\appdata\\local\\packages\\pythonsoftwarefoundation.python.3.11_qbz5n2kfra8p0\\localcache\\local-packages\\python311\\site-packages (from requests->unstructured[all-docs]) (1.26.18)\n",
      "Requirement already satisfied: certifi>=2017.4.17 in c:\\users\\ar3935\\appdata\\local\\packages\\pythonsoftwarefoundation.python.3.11_qbz5n2kfra8p0\\localcache\\local-packages\\python311\\site-packages (from requests->unstructured[all-docs]) (2023.7.22)\n",
      "Requirement already satisfied: colorama in c:\\users\\ar3935\\appdata\\local\\packages\\pythonsoftwarefoundation.python.3.11_qbz5n2kfra8p0\\localcache\\local-packages\\python311\\site-packages (from tqdm->unstructured[all-docs]) (0.4.6)\n",
      "Collecting eval-type-backport<0.3.0,>=0.2.0 (from unstructured-client->unstructured[all-docs])\n",
      "  Obtaining dependency information for eval-type-backport<0.3.0,>=0.2.0 from https://files.pythonhosted.org/packages/ac/ac/aa3d8e0acbcd71140420bc752d7c9779cf3a2a3bb1d7ef30944e38b2cd39/eval_type_backport-0.2.0-py3-none-any.whl.metadata\n",
      "  Using cached eval_type_backport-0.2.0-py3-none-any.whl.metadata (2.2 kB)\n",
      "Requirement already satisfied: httpx>=0.27.0 in c:\\users\\ar3935\\appdata\\local\\packages\\pythonsoftwarefoundation.python.3.11_qbz5n2kfra8p0\\localcache\\local-packages\\python311\\site-packages (from unstructured-client->unstructured[all-docs]) (0.27.2)\n",
      "Collecting jsonpath-python<2.0.0,>=1.0.6 (from unstructured-client->unstructured[all-docs])\n",
      "  Obtaining dependency information for jsonpath-python<2.0.0,>=1.0.6 from https://files.pythonhosted.org/packages/16/8a/d63959f4eff03893a00e6e63592e3a9f15b9266ed8e0275ab77f8c7dbc94/jsonpath_python-1.0.6-py3-none-any.whl.metadata\n",
      "  Using cached jsonpath_python-1.0.6-py3-none-any.whl.metadata (12 kB)\n",
      "Collecting nest-asyncio>=1.6.0 (from unstructured-client->unstructured[all-docs])\n",
      "  Obtaining dependency information for nest-asyncio>=1.6.0 from https://files.pythonhosted.org/packages/a0/c4/c2971a3ba4c6103a3d10c4b0f24f461ddc027f0f09763220cf35ca1401b3/nest_asyncio-1.6.0-py3-none-any.whl.metadata\n",
      "  Using cached nest_asyncio-1.6.0-py3-none-any.whl.metadata (2.8 kB)\n",
      "Collecting pydantic<2.10.0,>=2.9.2 (from unstructured-client->unstructured[all-docs])\n",
      "  Obtaining dependency information for pydantic<2.10.0,>=2.9.2 from https://files.pythonhosted.org/packages/df/e4/ba44652d562cbf0bf320e0f3810206149c8a4e99cdbf66da82e97ab53a15/pydantic-2.9.2-py3-none-any.whl.metadata\n",
      "  Using cached pydantic-2.9.2-py3-none-any.whl.metadata (149 kB)\n",
      "Collecting requests-toolbelt>=1.0.0 (from unstructured-client->unstructured[all-docs])\n",
      "  Obtaining dependency information for requests-toolbelt>=1.0.0 from https://files.pythonhosted.org/packages/3f/51/d4db610ef29373b879047326cbf6fa98b6c1969d6f6dc423279de2b1be2c/requests_toolbelt-1.0.0-py2.py3-none-any.whl.metadata\n",
      "  Using cached requests_toolbelt-1.0.0-py2.py3-none-any.whl.metadata (14 kB)\n",
      "Requirement already satisfied: cffi>=1.12 in c:\\users\\ar3935\\appdata\\local\\packages\\pythonsoftwarefoundation.python.3.11_qbz5n2kfra8p0\\localcache\\local-packages\\python311\\site-packages (from cryptography>=36.0.0->pdfminer.six->unstructured[all-docs]) (1.15.1)\n",
      "Requirement already satisfied: googleapis-common-protos<2.0.dev0,>=1.56.2 in c:\\users\\ar3935\\appdata\\local\\packages\\pythonsoftwarefoundation.python.3.11_qbz5n2kfra8p0\\localcache\\local-packages\\python311\\site-packages (from google-api-core[grpc]!=2.0.*,!=2.1.*,!=2.10.*,!=2.2.*,!=2.3.*,!=2.4.*,!=2.5.*,!=2.6.*,!=2.7.*,!=2.8.*,!=2.9.*,<3.0.0dev,>=1.34.1->google-cloud-vision->unstructured[all-docs]) (1.60.0)\n",
      "Requirement already satisfied: grpcio<2.0dev,>=1.33.2 in c:\\users\\ar3935\\appdata\\local\\packages\\pythonsoftwarefoundation.python.3.11_qbz5n2kfra8p0\\localcache\\local-packages\\python311\\site-packages (from google-api-core[grpc]!=2.0.*,!=2.1.*,!=2.10.*,!=2.2.*,!=2.3.*,!=2.4.*,!=2.5.*,!=2.6.*,!=2.7.*,!=2.8.*,!=2.9.*,<3.0.0dev,>=1.34.1->google-cloud-vision->unstructured[all-docs]) (1.62.2)\n",
      "Requirement already satisfied: grpcio-status<2.0.dev0,>=1.33.2 in c:\\users\\ar3935\\appdata\\local\\packages\\pythonsoftwarefoundation.python.3.11_qbz5n2kfra8p0\\localcache\\local-packages\\python311\\site-packages (from google-api-core[grpc]!=2.0.*,!=2.1.*,!=2.10.*,!=2.2.*,!=2.3.*,!=2.4.*,!=2.5.*,!=2.6.*,!=2.7.*,!=2.8.*,!=2.9.*,<3.0.0dev,>=1.34.1->google-cloud-vision->unstructured[all-docs]) (1.62.2)\n",
      "Requirement already satisfied: cachetools<6.0,>=2.0.0 in c:\\users\\ar3935\\appdata\\local\\packages\\pythonsoftwarefoundation.python.3.11_qbz5n2kfra8p0\\localcache\\local-packages\\python311\\site-packages (from google-auth!=2.24.0,!=2.25.0,<3.0.0dev,>=2.14.1->google-cloud-vision->unstructured[all-docs]) (5.3.1)\n",
      "Requirement already satisfied: pyasn1-modules>=0.2.1 in c:\\users\\ar3935\\appdata\\local\\packages\\pythonsoftwarefoundation.python.3.11_qbz5n2kfra8p0\\localcache\\local-packages\\python311\\site-packages (from google-auth!=2.24.0,!=2.25.0,<3.0.0dev,>=2.14.1->google-cloud-vision->unstructured[all-docs]) (0.3.0)\n",
      "Requirement already satisfied: rsa<5,>=3.1.4 in c:\\users\\ar3935\\appdata\\local\\packages\\pythonsoftwarefoundation.python.3.11_qbz5n2kfra8p0\\localcache\\local-packages\\python311\\site-packages (from google-auth!=2.24.0,!=2.25.0,<3.0.0dev,>=2.14.1->google-cloud-vision->unstructured[all-docs]) (4.9)\n",
      "Requirement already satisfied: anyio in c:\\users\\ar3935\\appdata\\local\\packages\\pythonsoftwarefoundation.python.3.11_qbz5n2kfra8p0\\localcache\\local-packages\\python311\\site-packages (from httpx>=0.27.0->unstructured-client->unstructured[all-docs]) (3.7.1)\n",
      "Requirement already satisfied: httpcore==1.* in c:\\users\\ar3935\\appdata\\local\\packages\\pythonsoftwarefoundation.python.3.11_qbz5n2kfra8p0\\localcache\\local-packages\\python311\\site-packages (from httpx>=0.27.0->unstructured-client->unstructured[all-docs]) (1.0.6)\n",
      "Requirement already satisfied: sniffio in c:\\users\\ar3935\\appdata\\local\\packages\\pythonsoftwarefoundation.python.3.11_qbz5n2kfra8p0\\localcache\\local-packages\\python311\\site-packages (from httpx>=0.27.0->unstructured-client->unstructured[all-docs]) (1.3.0)\n",
      "Requirement already satisfied: h11<0.15,>=0.13 in c:\\users\\ar3935\\appdata\\local\\packages\\pythonsoftwarefoundation.python.3.11_qbz5n2kfra8p0\\localcache\\local-packages\\python311\\site-packages (from httpcore==1.*->httpx>=0.27.0->unstructured-client->unstructured[all-docs]) (0.14.0)\n",
      "Requirement already satisfied: antlr4-python3-runtime==4.9.* in c:\\users\\ar3935\\appdata\\local\\packages\\pythonsoftwarefoundation.python.3.11_qbz5n2kfra8p0\\localcache\\local-packages\\python311\\site-packages (from omegaconf>=2.0->effdet->unstructured[all-docs]) (4.9.3)\n",
      "Requirement already satisfied: PyYAML>=5.1.0 in c:\\users\\ar3935\\appdata\\local\\packages\\pythonsoftwarefoundation.python.3.11_qbz5n2kfra8p0\\localcache\\local-packages\\python311\\site-packages (from omegaconf>=2.0->effdet->unstructured[all-docs]) (6.0.1)\n",
      "Collecting coloredlogs (from onnxruntime>=1.17.0->unstructured-inference==0.8.1->unstructured[all-docs])\n",
      "  Obtaining dependency information for coloredlogs from https://files.pythonhosted.org/packages/a7/06/3d6badcf13db419e25b07041d9c7b4a2c331d3f4e7134445ec5df57714cd/coloredlogs-15.0.1-py2.py3-none-any.whl.metadata\n",
      "  Using cached coloredlogs-15.0.1-py2.py3-none-any.whl.metadata (12 kB)\n",
      "Requirement already satisfied: flatbuffers in c:\\users\\ar3935\\appdata\\local\\packages\\pythonsoftwarefoundation.python.3.11_qbz5n2kfra8p0\\localcache\\local-packages\\python311\\site-packages (from onnxruntime>=1.17.0->unstructured-inference==0.8.1->unstructured[all-docs]) (24.3.25)\n",
      "Requirement already satisfied: sympy in c:\\users\\ar3935\\appdata\\local\\packages\\pythonsoftwarefoundation.python.3.11_qbz5n2kfra8p0\\localcache\\local-packages\\python311\\site-packages (from onnxruntime>=1.17.0->unstructured-inference==0.8.1->unstructured[all-docs]) (1.13.1)\n",
      "Collecting contourpy>=1.0.1 (from matplotlib->unstructured-inference==0.8.1->unstructured[all-docs])\n",
      "  Obtaining dependency information for contourpy>=1.0.1 from https://files.pythonhosted.org/packages/8d/2f/804f02ff30a7fae21f98198828d0857439ec4c91a96e20cf2d6c49372966/contourpy-1.3.0-cp311-cp311-win_amd64.whl.metadata\n",
      "  Using cached contourpy-1.3.0-cp311-cp311-win_amd64.whl.metadata (5.4 kB)\n",
      "Collecting cycler>=0.10 (from matplotlib->unstructured-inference==0.8.1->unstructured[all-docs])\n",
      "  Obtaining dependency information for cycler>=0.10 from https://files.pythonhosted.org/packages/e7/05/c19819d5e3d95294a6f5947fb9b9629efb316b96de511b418c53d245aae6/cycler-0.12.1-py3-none-any.whl.metadata\n",
      "  Using cached cycler-0.12.1-py3-none-any.whl.metadata (3.8 kB)\n",
      "Collecting fonttools>=4.22.0 (from matplotlib->unstructured-inference==0.8.1->unstructured[all-docs])\n",
      "  Obtaining dependency information for fonttools>=4.22.0 from https://files.pythonhosted.org/packages/63/f1/3a081cd047d83b5966cb0d7ef3fea929ee6eddeb94d8fbfdb2a19bd60cc7/fonttools-4.54.1-cp311-cp311-win_amd64.whl.metadata\n",
      "  Using cached fonttools-4.54.1-cp311-cp311-win_amd64.whl.metadata (167 kB)\n",
      "Collecting kiwisolver>=1.3.1 (from matplotlib->unstructured-inference==0.8.1->unstructured[all-docs])\n",
      "  Obtaining dependency information for kiwisolver>=1.3.1 from https://files.pythonhosted.org/packages/a1/65/d43e9a20aabcf2e798ad1aff6c143ae3a42cf506754bcb6a7ed8259c8425/kiwisolver-1.4.7-cp311-cp311-win_amd64.whl.metadata\n",
      "  Using cached kiwisolver-1.4.7-cp311-cp311-win_amd64.whl.metadata (6.4 kB)\n",
      "Requirement already satisfied: pyparsing>=2.3.1 in c:\\users\\ar3935\\appdata\\local\\packages\\pythonsoftwarefoundation.python.3.11_qbz5n2kfra8p0\\localcache\\local-packages\\python311\\site-packages (from matplotlib->unstructured-inference==0.8.1->unstructured[all-docs]) (3.2.0)\n",
      "Requirement already satisfied: annotated-types>=0.6.0 in c:\\users\\ar3935\\appdata\\local\\packages\\pythonsoftwarefoundation.python.3.11_qbz5n2kfra8p0\\localcache\\local-packages\\python311\\site-packages (from pydantic<2.10.0,>=2.9.2->unstructured-client->unstructured[all-docs]) (0.6.0)\n",
      "Collecting pydantic-core==2.23.4 (from pydantic<2.10.0,>=2.9.2->unstructured-client->unstructured[all-docs])\n",
      "  Obtaining dependency information for pydantic-core==2.23.4 from https://files.pythonhosted.org/packages/2f/76/37b7e76c645843ff46c1d73e046207311ef298d3f7b2f7d8f6ac60113071/pydantic_core-2.23.4-cp311-none-win_amd64.whl.metadata\n",
      "  Using cached pydantic_core-2.23.4-cp311-none-win_amd64.whl.metadata (6.7 kB)\n",
      "Requirement already satisfied: safetensors in c:\\users\\ar3935\\appdata\\local\\packages\\pythonsoftwarefoundation.python.3.11_qbz5n2kfra8p0\\localcache\\local-packages\\python311\\site-packages (from timm->unstructured-inference==0.8.1->unstructured[all-docs]) (0.4.5)\n",
      "Requirement already satisfied: filelock in c:\\users\\ar3935\\appdata\\local\\packages\\pythonsoftwarefoundation.python.3.11_qbz5n2kfra8p0\\localcache\\local-packages\\python311\\site-packages (from torch->unstructured-inference==0.8.1->unstructured[all-docs]) (3.16.1)\n",
      "Requirement already satisfied: jinja2 in c:\\users\\ar3935\\appdata\\local\\packages\\pythonsoftwarefoundation.python.3.11_qbz5n2kfra8p0\\localcache\\local-packages\\python311\\site-packages (from torch->unstructured-inference==0.8.1->unstructured[all-docs]) (3.1.2)\n",
      "Collecting fsspec (from torch->unstructured-inference==0.8.1->unstructured[all-docs])\n",
      "  Obtaining dependency information for fsspec from https://files.pythonhosted.org/packages/c6/b2/454d6e7f0158951d8a78c2e1eb4f69ae81beb8dca5fee9809c6c99e9d0d0/fsspec-2024.10.0-py3-none-any.whl.metadata\n",
      "  Using cached fsspec-2024.10.0-py3-none-any.whl.metadata (11 kB)\n",
      "Requirement already satisfied: mpmath<1.4,>=1.1.0 in c:\\users\\ar3935\\appdata\\local\\packages\\pythonsoftwarefoundation.python.3.11_qbz5n2kfra8p0\\localcache\\local-packages\\python311\\site-packages (from sympy->onnxruntime>=1.17.0->unstructured-inference==0.8.1->unstructured[all-docs]) (1.3.0)\n",
      "Collecting tokenizers<0.21,>=0.20 (from transformers>=4.25.1->unstructured-inference==0.8.1->unstructured[all-docs])\n",
      "  Obtaining dependency information for tokenizers<0.21,>=0.20 from https://files.pythonhosted.org/packages/75/68/1b4f928b15a36ed278332ac75d66d7eb65d865bf344d049c452c18447bf9/tokenizers-0.20.3-cp311-none-win_amd64.whl.metadata\n",
      "  Using cached tokenizers-0.20.3-cp311-none-win_amd64.whl.metadata (6.9 kB)\n",
      "Requirement already satisfied: mypy-extensions>=0.3.0 in c:\\users\\ar3935\\appdata\\local\\packages\\pythonsoftwarefoundation.python.3.11_qbz5n2kfra8p0\\localcache\\local-packages\\python311\\site-packages (from typing-inspect<1,>=0.4.0->dataclasses-json->unstructured[all-docs]) (1.0.0)\n",
      "Requirement already satisfied: scipy in c:\\users\\ar3935\\appdata\\local\\packages\\pythonsoftwarefoundation.python.3.11_qbz5n2kfra8p0\\localcache\\local-packages\\python311\\site-packages (from layoutparser->unstructured-inference==0.8.1->unstructured[all-docs]) (1.14.1)\n",
      "Collecting iopath (from layoutparser->unstructured-inference==0.8.1->unstructured[all-docs])\n",
      "  Using cached iopath-0.1.10-py3-none-any.whl\n",
      "Collecting pdfplumber (from layoutparser->unstructured-inference==0.8.1->unstructured[all-docs])\n",
      "  Obtaining dependency information for pdfplumber from https://files.pythonhosted.org/packages/d0/87/415cb472981a8d2e36beeeadf074ebb686cc2bfe8d18de973232da291bd5/pdfplumber-0.11.4-py3-none-any.whl.metadata\n",
      "  Using cached pdfplumber-0.11.4-py3-none-any.whl.metadata (41 kB)\n",
      "Requirement already satisfied: pycparser in c:\\users\\ar3935\\appdata\\local\\packages\\pythonsoftwarefoundation.python.3.11_qbz5n2kfra8p0\\localcache\\local-packages\\python311\\site-packages (from cffi>=1.12->cryptography>=36.0.0->pdfminer.six->unstructured[all-docs]) (2.21)\n",
      "Requirement already satisfied: pyasn1<0.6.0,>=0.4.6 in c:\\users\\ar3935\\appdata\\local\\packages\\pythonsoftwarefoundation.python.3.11_qbz5n2kfra8p0\\localcache\\local-packages\\python311\\site-packages (from pyasn1-modules>=0.2.1->google-auth!=2.24.0,!=2.25.0,<3.0.0dev,>=2.14.1->google-cloud-vision->unstructured[all-docs]) (0.5.0)\n",
      "Collecting humanfriendly>=9.1 (from coloredlogs->onnxruntime>=1.17.0->unstructured-inference==0.8.1->unstructured[all-docs])\n",
      "  Obtaining dependency information for humanfriendly>=9.1 from https://files.pythonhosted.org/packages/f0/0f/310fb31e39e2d734ccaa2c0fb981ee41f7bd5056ce9bc29b2248bd569169/humanfriendly-10.0-py2.py3-none-any.whl.metadata\n",
      "  Using cached humanfriendly-10.0-py2.py3-none-any.whl.metadata (9.2 kB)\n",
      "Requirement already satisfied: portalocker in c:\\users\\ar3935\\appdata\\local\\packages\\pythonsoftwarefoundation.python.3.11_qbz5n2kfra8p0\\localcache\\local-packages\\python311\\site-packages (from iopath->layoutparser->unstructured-inference==0.8.1->unstructured[all-docs]) (2.7.0)\n",
      "Requirement already satisfied: MarkupSafe>=2.0 in c:\\users\\ar3935\\appdata\\local\\packages\\pythonsoftwarefoundation.python.3.11_qbz5n2kfra8p0\\localcache\\local-packages\\python311\\site-packages (from jinja2->torch->unstructured-inference==0.8.1->unstructured[all-docs]) (2.1.3)\n",
      "Collecting pdfminer.six (from unstructured[all-docs])\n",
      "  Obtaining dependency information for pdfminer.six from https://files.pythonhosted.org/packages/eb/9c/e46fe7502b32d7db6af6e36a9105abb93301fa1ec475b5ddcba8b35ae23a/pdfminer.six-20231228-py3-none-any.whl.metadata\n",
      "  Using cached pdfminer.six-20231228-py3-none-any.whl.metadata (4.2 kB)\n",
      "Requirement already satisfied: pypdfium2>=4.18.0 in c:\\users\\ar3935\\appdata\\local\\packages\\pythonsoftwarefoundation.python.3.11_qbz5n2kfra8p0\\localcache\\local-packages\\python311\\site-packages (from pdfplumber->layoutparser->unstructured-inference==0.8.1->unstructured[all-docs]) (4.30.0)\n",
      "Requirement already satisfied: pyreadline3 in c:\\users\\ar3935\\appdata\\local\\packages\\pythonsoftwarefoundation.python.3.11_qbz5n2kfra8p0\\localcache\\local-packages\\python311\\site-packages (from humanfriendly>=9.1->coloredlogs->onnxruntime>=1.17.0->unstructured-inference==0.8.1->unstructured[all-docs]) (3.5.4)\n",
      "Requirement already satisfied: pywin32>=226 in c:\\users\\ar3935\\appdata\\local\\packages\\pythonsoftwarefoundation.python.3.11_qbz5n2kfra8p0\\localcache\\local-packages\\python311\\site-packages (from portalocker->iopath->layoutparser->unstructured-inference==0.8.1->unstructured[all-docs]) (306)\n",
      "Using cached unstructured_inference-0.8.1-py3-none-any.whl (48 kB)\n",
      "Using cached python_docx-1.1.2-py3-none-any.whl (244 kB)\n",
      "Using cached python_pptx-1.0.2-py3-none-any.whl (472 kB)\n",
      "Using cached unstructured.pytesseract-0.3.13-py3-none-any.whl (14 kB)\n",
      "Using cached backoff-2.2.1-py3-none-any.whl (15 kB)\n",
      "Using cached effdet-0.4.1-py3-none-any.whl (112 kB)\n",
      "Using cached emoji-2.14.0-py3-none-any.whl (586 kB)\n",
      "Using cached google_cloud_vision-3.8.0-py2.py3-none-any.whl (488 kB)\n",
      "Using cached html5lib-1.1-py2.py3-none-any.whl (112 kB)\n",
      "Using cached Markdown-3.7-py3-none-any.whl (106 kB)\n",
      "Using cached networkx-3.4.2-py3-none-any.whl (1.7 MB)\n",
      "Using cached nltk-3.9.1-py3-none-any.whl (1.5 MB)\n",
      "Using cached onnx-1.17.0-cp311-cp311-win_amd64.whl (14.5 MB)\n",
      "Using cached pdf2image-1.17.0-py3-none-any.whl (11 kB)\n",
      "Using cached pi_heif-0.20.0-cp311-cp311-win_amd64.whl (1.7 MB)\n",
      "Using cached pikepdf-9.4.0-cp311-cp311-win_amd64.whl (3.5 MB)\n",
      "Using cached python_oxmsg-0.0.1-py3-none-any.whl (31 kB)\n",
      "Using cached unstructured-0.16.5-py3-none-any.whl (1.7 MB)\n",
      "Using cached unstructured_client-0.27.0-py3-none-any.whl (59 kB)\n",
      "Using cached eval_type_backport-0.2.0-py3-none-any.whl (5.9 kB)\n",
      "Using cached jsonpath_python-1.0.6-py3-none-any.whl (7.6 kB)\n",
      "Using cached nest_asyncio-1.6.0-py3-none-any.whl (5.2 kB)\n",
      "Using cached omegaconf-2.3.0-py3-none-any.whl (79 kB)\n",
      "Using cached onnxruntime-1.20.0-cp311-cp311-win_amd64.whl (11.3 MB)\n",
      "Using cached pycocotools-2.0.8-cp311-cp311-win_amd64.whl (85 kB)\n",
      "Using cached matplotlib-3.9.2-cp311-cp311-win_amd64.whl (7.8 MB)\n",
      "Using cached pydantic-2.9.2-py3-none-any.whl (434 kB)\n",
      "Using cached pydantic_core-2.23.4-cp311-none-win_amd64.whl (1.9 MB)\n",
      "Using cached requests_toolbelt-1.0.0-py2.py3-none-any.whl (54 kB)\n",
      "Using cached timm-1.0.11-py3-none-any.whl (2.3 MB)\n",
      "Using cached torch-2.5.1-cp311-cp311-win_amd64.whl (203.1 MB)\n",
      "Using cached transformers-4.46.2-py3-none-any.whl (10.0 MB)\n",
      "Using cached huggingface_hub-0.26.2-py3-none-any.whl (447 kB)\n",
      "Using cached Deprecated-1.2.14-py2.py3-none-any.whl (9.6 kB)\n",
      "Using cached joblib-1.4.2-py3-none-any.whl (301 kB)\n",
      "Using cached layoutparser-0.3.4-py3-none-any.whl (19.2 MB)\n",
      "Using cached olefile-0.47-py2.py3-none-any.whl (114 kB)\n",
      "Using cached torchvision-0.20.1-cp311-cp311-win_amd64.whl (1.6 MB)\n",
      "Using cached contourpy-1.3.0-cp311-cp311-win_amd64.whl (217 kB)\n",
      "Using cached cycler-0.12.1-py3-none-any.whl (8.3 kB)\n",
      "Using cached fonttools-4.54.1-cp311-cp311-win_amd64.whl (2.2 MB)\n",
      "Using cached fsspec-2024.10.0-py3-none-any.whl (179 kB)\n",
      "Using cached kiwisolver-1.4.7-cp311-cp311-win_amd64.whl (56 kB)\n",
      "Using cached tokenizers-0.20.3-cp311-none-win_amd64.whl (2.4 MB)\n",
      "Using cached coloredlogs-15.0.1-py2.py3-none-any.whl (46 kB)\n",
      "Using cached pdfplumber-0.11.4-py3-none-any.whl (59 kB)\n",
      "Using cached pdfminer.six-20231228-py3-none-any.whl (5.6 MB)\n",
      "Using cached humanfriendly-10.0-py2.py3-none-any.whl (86 kB)\n",
      "Installing collected packages: unstructured.pytesseract, python-pptx, python-docx, pydantic-core, pi-heif, pdf2image, onnx, omegaconf, olefile, networkx, nest-asyncio, markdown, langdetect, kiwisolver, jsonpath-python, joblib, humanfriendly, html5lib, fsspec, fonttools, eval-type-backport, emoji, Deprecated, cycler, contourpy, backoff, torch, requests-toolbelt, python-oxmsg, pydantic, pikepdf, nltk, matplotlib, iopath, huggingface-hub, coloredlogs, unstructured-client, torchvision, tokenizers, pycocotools, pdfminer.six, onnxruntime, unstructured, transformers, timm, pdfplumber, layoutparser, google-cloud-vision, effdet, unstructured-inference\n",
      "  Attempting uninstall: pydantic-core\n",
      "    Found existing installation: pydantic_core 2.14.5\n",
      "    Uninstalling pydantic_core-2.14.5:\n",
      "      Successfully uninstalled pydantic_core-2.14.5\n"
     ]
    },
    {
     "name": "stderr",
     "output_type": "stream",
     "text": [
      "ERROR: Could not install packages due to an OSError: [WinError 5] Access is denied: 'C:\\\\Users\\\\ar3935\\\\AppData\\\\Local\\\\Packages\\\\PythonSoftwareFoundation.Python.3.11_qbz5n2kfra8p0\\\\LocalCache\\\\local-packages\\\\Python311\\\\site-packages\\\\~ydantic_core\\\\_pydantic_core.cp311-win_amd64.pyd'\n",
      "Check the permissions.\n",
      "\n",
      "\n",
      "[notice] A new release of pip is available: 23.2.1 -> 24.3.1\n",
      "[notice] To update, run: C:\\Users\\ar3935\\AppData\\Local\\Microsoft\\WindowsApps\\PythonSoftwareFoundation.Python.3.11_qbz5n2kfra8p0\\python.exe -m pip install --upgrade pip\n"
     ]
    }
   ],
   "source": [
    "!pip install \"unstructured[all-docs]\""
   ]
  },
  {
   "cell_type": "code",
   "execution_count": 7,
   "metadata": {},
   "outputs": [
    {
     "ename": "ModuleNotFoundError",
     "evalue": "No module named 'unstructured'",
     "output_type": "error",
     "traceback": [
      "\u001b[1;31m---------------------------------------------------------------------------\u001b[0m",
      "\u001b[1;31mModuleNotFoundError\u001b[0m                       Traceback (most recent call last)",
      "Cell \u001b[1;32mIn[7], line 1\u001b[0m\n\u001b[1;32m----> 1\u001b[0m \u001b[38;5;28;01mfrom\u001b[39;00m \u001b[38;5;21;01munstructured\u001b[39;00m\u001b[38;5;21;01m.\u001b[39;00m\u001b[38;5;21;01mpartition\u001b[39;00m\u001b[38;5;21;01m.\u001b[39;00m\u001b[38;5;21;01mpdf\u001b[39;00m \u001b[38;5;28;01mimport\u001b[39;00m partition_pdf\n",
      "\u001b[1;31mModuleNotFoundError\u001b[0m: No module named 'unstructured'"
     ]
    }
   ],
   "source": [
    "from unstructured.partition.pdf import partition_pdf"
   ]
  },
  {
   "cell_type": "code",
   "execution_count": null,
   "metadata": {},
   "outputs": [
    {
     "ename": "ModuleNotFoundError",
     "evalue": "No module named 'partition_pdf'",
     "output_type": "error",
     "traceback": [
      "\u001b[1;31m---------------------------------------------------------------------------\u001b[0m",
      "\u001b[1;31mModuleNotFoundError\u001b[0m                       Traceback (most recent call last)",
      "Cell \u001b[1;32mIn[5], line 1\u001b[0m\n\u001b[1;32m----> 1\u001b[0m \u001b[38;5;28;01mimport\u001b[39;00m \u001b[38;5;21;01mpartition_pdf\u001b[39;00m\n",
      "\u001b[1;31mModuleNotFoundError\u001b[0m: No module named 'partition_pdf'"
     ]
    }
   ],
   "source": []
  },
  {
   "cell_type": "code",
   "execution_count": 9,
   "metadata": {},
   "outputs": [
    {
     "name": "stdout",
     "output_type": "stream",
     "text": [
      "Collecting arabic-reshaper\n",
      "  Obtaining dependency information for arabic-reshaper from https://files.pythonhosted.org/packages/44/fb/e20b45d81d74d810b01bff408baf8af04abf1d55a1a289c8395ad0919a7c/arabic_reshaper-3.0.0-py3-none-any.whl.metadata\n",
      "  Downloading arabic_reshaper-3.0.0-py3-none-any.whl.metadata (12 kB)\n",
      "Downloading arabic_reshaper-3.0.0-py3-none-any.whl (20 kB)\n",
      "Installing collected packages: arabic-reshaper\n",
      "Successfully installed arabic-reshaper-3.0.0\n"
     ]
    },
    {
     "name": "stderr",
     "output_type": "stream",
     "text": [
      "\n",
      "[notice] A new release of pip is available: 23.2.1 -> 24.3.1\n",
      "[notice] To update, run: C:\\Users\\ar3935\\AppData\\Local\\Microsoft\\WindowsApps\\PythonSoftwareFoundation.Python.3.11_qbz5n2kfra8p0\\python.exe -m pip install --upgrade pip\n"
     ]
    },
    {
     "name": "stdout",
     "output_type": "stream",
     "text": [
      "Collecting python-bidi\n",
      "  Obtaining dependency information for python-bidi from https://files.pythonhosted.org/packages/f5/44/1fcb4350e6283a1ccd64666373274dd76eb0a9f91c3c1ac8e06e5046c5a5/python_bidi-0.6.3-cp311-none-win_amd64.whl.metadata\n",
      "  Downloading python_bidi-0.6.3-cp311-none-win_amd64.whl.metadata (5.0 kB)\n",
      "Downloading python_bidi-0.6.3-cp311-none-win_amd64.whl (157 kB)\n",
      "   ---------------------------------------- 0.0/157.2 kB ? eta -:--:--\n",
      "   -- ------------------------------------- 10.2/157.2 kB ? eta -:--:--\n",
      "   ------- ------------------------------- 30.7/157.2 kB 660.6 kB/s eta 0:00:01\n",
      "   -------------------------- ------------- 102.4/157.2 kB 1.2 MB/s eta 0:00:01\n",
      "   ---------------------------------------- 157.2/157.2 kB 1.6 MB/s eta 0:00:00\n",
      "Installing collected packages: python-bidi\n",
      "Successfully installed python-bidi-0.6.3\n"
     ]
    },
    {
     "name": "stderr",
     "output_type": "stream",
     "text": [
      "\n",
      "[notice] A new release of pip is available: 23.2.1 -> 24.3.1\n",
      "[notice] To update, run: C:\\Users\\ar3935\\AppData\\Local\\Microsoft\\WindowsApps\\PythonSoftwareFoundation.Python.3.11_qbz5n2kfra8p0\\python.exe -m pip install --upgrade pip\n"
     ]
    }
   ],
   "source": [
    "!pip install arabic-reshaper\n",
    "!pip install python-bidi\n"
   ]
  },
  {
   "cell_type": "code",
   "execution_count": 10,
   "metadata": {},
   "outputs": [
    {
     "name": "stdout",
     "output_type": "stream",
     "text": [
      "27  ﻢــﻧ ﻼﺸــﺮﻛﺓ ﻮﻠﻴــﺳ ﻊــﺪﻣ ﺍﻺﻨﺘﻈــﺎﻣ ﻲﻓ ﺖﻐﻴﻴــﺭ ﻻﺰﻴــﺗ- ﻖــﺭﺮﺗ ﺎﺤﻤﻠﻜﻤــﺓ   ﻼﺴــﻳﺍﺭﺓ ﻢــﻧ ﻖﺒــﻟ ﺎﺨﻠﺒــﺭﺍﺀ ﻒــﺭﺃﻭﺍ ﺄﻧ ﺲــﺒﺑ ﻼﻌﻴــﺑ ﺎﺨﻠﻄــﺃ ﻲﻓ ﻼﺘﺸــﺨﻴﺻ   ﺐﻗﻭﺎﻌــﺩ ﺲــﺎﻣﺓ ﻼﺴــﻳﺍﺭﺓ ﺐﻌــﺪﻣ ﺖﻐﻴﻴــﺭ ﺰﻴــﺗ ﺎﺤﻤﻠــﺮﻛ ﺏﺎﻨﺘﻈــﺎﻣ - ﻢﺗ ﻒﺤــﺻ   ﻭﺪﻔــﻋ ﺐــﺄﻧ ﻼﻌﻄــﻟ ﺎﻤﻟﺬﻜــﻭﺭ ﻲﻓ ﺪﻌــﻮﯨ ﺎﻤﻟﺪﻌــﻳ ﻦــﺎﺠﺗ ﻊــﻧ ﻊــﺪﻣ ﺍﻺﻠﺘــﺯﺎﻣ   ﺎﻤﻟﺪﻌــﯨ ﻊﻠﻴﻬــﺍ ﻢــﺍ ﺞــﺍﺀ ﻲﻓ ﻻﺪﻌــﻮﯨ ﻢــﻧ ﻮﺠــﻭﺩ ﻊﻴــﺑ ﻢﺼﻨﻌــﻳ ﻲﻓ ﻼﺴــﻳﺍﺭﺓ   ﺲــﻳﺍﺭﺓ ﻢﻣﺎﺜﻠــﺓ ﻭﺇﺫﺍ ﺖﻌــﺫﺭ ﺬﻠــﻛ ﻹﺯﺎﻤﻬــﺍ ﺏﺈﻌــﺍﺩﺓ ﻼﻘﻴﻤــﺓ - ﺄﻨﻜــﺭ ﻮﻜﻴــﻟ   ﻻﺪﻌــﻮﯨ ، ﻞــﺫﺍ ﻂﻠــﺑ ﺎﺤﻠﻜــﻣ ﻊﻠــﯨ ﻼﺸــﺮﻛﺓ ﺎﻤﻟﺪﻌــﯨ ﻊﻠﻴﻬــﺍ ﺏﺈﺑﺩﻼــﻫ   ﻲﻓ ﺪﻌــﻭﺎﻫ ﻮﺒﻌــﺩ ﺄﻧ ﺎﺴــﺘﺧﺪﻤﻫﺍ ﻆﻬــﺭ ﻊﻴــﺑ ﻢﺼﻨﻌــﻳ ﻒﻴﻬــﺍ ﻡﺬﻜــﻭﺭ ﻲﻓ   ﺍﺪﻌــﯨ ﺎﻤﻟﺪﻌــﻳ ﺏﺄﻨــﻫ ﺎﺸــﺗﺮﯨ ﻢــﻧ ﻼﺸــﺮﻛﺓ ﺎﻤﻟﺪﻌــﯨ ﻊﻠﻴﻫﺍ ﺲــﻳﺍﺭﺓ ﻡﻮﺻﻮﻓﺓ   ﻼﻴﻤﻧ ﺖﺷﺮﻋ ﻲﻓ ﺝﺎﻨﺑ ﺄﻗﻮﯨ ﺎﻤﻠﺗﺩﺎﻌﻴﻧ .  ﻼﺜﻤــﻧ ﻮﺼــﺮﻓ ﻼﻨﻈــﺭ ﻊــﻧ ﻂﻠــﺑ ﻻﺰﻴــﺍﺩﺓ .  ﺍﻺﻤﺴــﺎﻛ ﻢــﻋ ﺍﻹﺮﺷ ﺃﻭ ﻼﻔﺴــﺧ - ﺎﺤﻠﻜــﻣ ﺏﻺــﺯﺎﻣ ﺎﻤﻟﺪﻌــﯨ ﻊﻠﻴــﻫ ﺖﺴــﻠﻴﻣ   ﺎﻤﻟﺪﻌــﯨ ﻢﻴــﻧ ﺍﻼﺴــﺘﻈﻫﺍﺭ - ﻊﻨــﺩ ﻮﺠــﻭﺩ ﻼﻌﻴــﺑ ﻒﻠﻠﻤﺸــﺗﺮﯨ ﺎﺨﻠﻴــﺍﺭ ﺐــﻧ   ﻖﺴــﻣ ﺎﺨﻠﺒــﺭﺍﺀ - ﻼﻴﻤــﻧ ﺖﺸــﺮﻋ ﻲﻓ ﺝﺎﻨــﺑ ﺄﻘــﻮﯨ ﺎﻤﻠﺗﺩﺎﻌﻴــﻧ - ﺢﻠــﻓ   ﺐﻴــﻋ ﺲــﻳﺍﺭﺓ - ﻒﺴــﺧ ﻼﺒﻴــﻋ ﻝﻮﺠــﻭﺩ ﻼﻌﻴــﺑ - ﺖﻗﺪﻴــﺭ ﻼﻌﻴــﺑ ﻊــﻧ ﻁﺮﻴــﻗ   ﺍﻼﺴﺘﺌﻧﺎﻓ :344533 ﺕﺍﺮﻴﺨﻫ: 1434/1/6ﻪـ ﺮﻗ ﻡ ﻻﺪﻋﻮﯨ: 960 ﺮﻘﻣ ﻕﺭﺍﺭ ﻼﺘﺻﺪﻴﻗ ﻢﻧ ﻢﺤﻜﻣﺓ ﺮﻗ ﻡ ﻼﺻ ﻙ : 33252287 ﺕﺍﺮﻴﺧ ﻩ:1433/5/17ﻪـ\n"
     ]
    }
   ],
   "source": [
    "import arabic_reshaper\n",
    "from bidi.algorithm import get_display\n",
    "\n",
    "# Your extracted text\n",
    "text = \"\"\"ـه1433/5/17:ه ُخيرات 33252287 : ِّك َّصلا ُم ْقَر ةمكحم نم قيدصتلا رارق مقر 960 :ىوعدلا ُم ْقَر ـه1434/1/6 :هخيرات 344533: فانئتسلاا   قــيرط نــع بــيعلا رــيدقت - بــيعلا دوــجول عــيبلا خــسف - ةرايــس عــيب   فــلح - نــيعادتلما ىوــقأ بــناج في عرــشت نــميلا - ءارــبلخا مــسق   نــب راــيلخا ىرتــشمللف بــيعلا دوــجو دــنع - راهظتــسلاا نــيم ىــعدلما   ميلــست هــيلع ىــعدلما مازــلإب مــكلحا - خــسفلا وأ شرلإا عــم كاــسملإا  . ةداــيزلا بــلط نــع رــظنلا فرــصو نــمثلا  . نيعادتلما ىوقأ بناج في عرشت نميلا   ةفوصوم ةرايــس اهيلع ىــعدلما ةكرــشلا نــم ىرتــشا هــنأب يــعدلما ىــعدا   في روــكذم اــهيف يــعنصم بــيع رــهظ اهمدختــسا نأ دــعبو هاوــعد في   هــلادبإب اــهيلع ىــعدلما ةكرــشلا ىــلع مــكلحا بــلط اذــل ، ىوــعدلا   لــيكو رــكنأ - ةــميقلا ةداــعإب اــهمازلإ كــلذ رذــعت اذإو ةــلثامم ةرايــس   ةرايــسلا في يــعنصم بــيع دوــجو نــم ىوــعدلا في ءاــج اــم اــهيلع ىــعدلما   مازــتللإا مدــع نــع تجاــن يــعدلما ىوــعد في روــكذلما لــطعلا نأــب عــفدو   صــحف تم - ماــظتناب كرــلمحا تــيز رــييغت مدــعب ةرايــسلا ةماــس دــعاوقب   صيخــشتلا في أــطلخا بــيعلا ببــس نأ اوأرــف ءارــبلخا لــبق نــم ةرايــسلا   ةــمكلمحا تررــق -تــيزلا رــييغت في ماــظتنلإا مدــع ســيلو ةكرــشلا نــم  27\"\"\"\n",
    "\n",
    "# Reshape the text\n",
    "reshaped_text = arabic_reshaper.reshape(text)\n",
    "\n",
    "# Correct the direction\n",
    "bidi_text = get_display(reshaped_text)\n",
    "\n",
    "print(bidi_text)\n"
   ]
  },
  {
   "cell_type": "code",
   "execution_count": 11,
   "metadata": {},
   "outputs": [
    {
     "name": "stdout",
     "output_type": "stream",
     "text": [
      "ﻩ:1433/5/17ﻪـ ﺕﺍﺮﻴﺧ 33252287 : ﻙ ﻼﺻ ﻡ ﺮﻗ ﻢﺤﻜﻣﺓ ﻢﻧ ﻼﺘﺻﺪﻴﻗ ﻕﺭﺍﺭ ﺮﻘﻣ 960 ﻻﺪﻋﻮﯨ: ﻡ ﺮﻗ 1434/1/6ﻪـ ﺕﺍﺮﻴﺨﻫ: :344533 ﺍﻼﺴﺘﺌﻧﺎﻓ ﻁﺮﻴــﻗ ﻊــﻧ ﻼﻌﻴــﺑ ﺖﻗﺪﻴــﺭ - ﻼﻌﻴــﺑ ﻝﻮﺠــﻭﺩ ﻼﺒﻴــﻋ ﻒﺴــﺧ - ﺲــﻳﺍﺭﺓ ﺐﻴــﻋ ﺢﻠــﻓ - ﺎﻤﻠﺗﺩﺎﻌﻴــﻧ ﺄﻘــﻮﯨ ﺝﺎﻨــﺑ ﻲﻓ ﺖﺸــﺮﻋ ﻼﻴﻤــﻧ - ﺎﺨﻠﺒــﺭﺍﺀ ﻖﺴــﻣ ﺐــﻧ ﺎﺨﻠﻴــﺍﺭ ﻒﻠﻠﻤﺸــﺗﺮﯨ ﻼﻌﻴــﺑ ﻮﺠــﻭﺩ ﻊﻨــﺩ - ﺍﻼﺴــﺘﻈﻫﺍﺭ ﻢﻴــﻧ ﺎﻤﻟﺪﻌــﯨ ﺖﺴــﻠﻴﻣ ﻊﻠﻴــﻫ ﺎﻤﻟﺪﻌــﯨ ﺏﻺــﺯﺎﻣ ﺎﺤﻠﻜــﻣ - ﻼﻔﺴــﺧ ﺃﻭ ﺍﻹﺮﺷ ﻢــﻋ ﺍﻺﻤﺴــﺎﻛ . ﻻﺰﻴــﺍﺩﺓ ﻂﻠــﺑ ﻊــﻧ ﻼﻨﻈــﺭ ﻮﺼــﺮﻓ ﻼﺜﻤــﻧ . ﺎﻤﻠﺗﺩﺎﻌﻴﻧ ﺄﻗﻮﯨ ﺝﺎﻨﺑ ﻲﻓ ﺖﺷﺮﻋ ﻼﻴﻤﻧ ﻡﻮﺻﻮﻓﺓ ﺲــﻳﺍﺭﺓ ﻊﻠﻴﻫﺍ ﺎﻤﻟﺪﻌــﯨ ﻼﺸــﺮﻛﺓ ﻢــﻧ ﺎﺸــﺗﺮﯨ ﺏﺄﻨــﻫ ﺎﻤﻟﺪﻌــﻳ ﺍﺪﻌــﯨ ﻲﻓ ﻡﺬﻜــﻭﺭ ﻒﻴﻬــﺍ ﻢﺼﻨﻌــﻳ ﻊﻴــﺑ ﻆﻬــﺭ ﺎﺴــﺘﺧﺪﻤﻫﺍ ﺄﻧ ﻮﺒﻌــﺩ ﺪﻌــﻭﺎﻫ ﻲﻓ ﺏﺈﺑﺩﻼــﻫ ﻊﻠﻴﻬــﺍ ﺎﻤﻟﺪﻌــﯨ ﻼﺸــﺮﻛﺓ ﻊﻠــﯨ ﺎﺤﻠﻜــﻣ ﻂﻠــﺑ ﻞــﺫﺍ ، ﻻﺪﻌــﻮﯨ ﻮﻜﻴــﻟ ﺄﻨﻜــﺭ - ﻼﻘﻴﻤــﺓ ﺏﺈﻌــﺍﺩﺓ ﻹﺯﺎﻤﻬــﺍ ﺬﻠــﻛ ﺖﻌــﺫﺭ ﻭﺇﺫﺍ ﻢﻣﺎﺜﻠــﺓ ﺲــﻳﺍﺭﺓ ﻼﺴــﻳﺍﺭﺓ ﻲﻓ ﻢﺼﻨﻌــﻳ ﻊﻴــﺑ ﻮﺠــﻭﺩ ﻢــﻧ ﻻﺪﻌــﻮﯨ ﻲﻓ ﺞــﺍﺀ ﻢــﺍ ﻊﻠﻴﻬــﺍ ﺎﻤﻟﺪﻌــﯨ ﺍﻺﻠﺘــﺯﺎﻣ ﻊــﺪﻣ ﻊــﻧ ﻦــﺎﺠﺗ ﺎﻤﻟﺪﻌــﻳ ﺪﻌــﻮﯨ ﻲﻓ ﺎﻤﻟﺬﻜــﻭﺭ ﻼﻌﻄــﻟ ﺐــﺄﻧ ﻭﺪﻔــﻋ ﻒﺤــﺻ ﻢﺗ - ﺏﺎﻨﺘﻈــﺎﻣ ﺎﺤﻤﻠــﺮﻛ ﺰﻴــﺗ ﺖﻐﻴﻴــﺭ ﺐﻌــﺪﻣ ﻼﺴــﻳﺍﺭﺓ ﺲــﺎﻣﺓ ﺐﻗﻭﺎﻌــﺩ ﻼﺘﺸــﺨﻴﺻ ﻲﻓ ﺎﺨﻠﻄــﺃ ﻼﻌﻴــﺑ ﺲــﺒﺑ ﺄﻧ ﻒــﺭﺃﻭﺍ ﺎﺨﻠﺒــﺭﺍﺀ ﻖﺒــﻟ ﻢــﻧ ﻼﺴــﻳﺍﺭﺓ ﺎﺤﻤﻠﻜﻤــﺓ ﻖــﺭﺮﺗ ﻻﺰﻴــﺗ- ﺖﻐﻴﻴــﺭ ﻲﻓ ﺍﻺﻨﺘﻈــﺎﻣ ﻊــﺪﻣ ﻮﻠﻴــﺳ ﻼﺸــﺮﻛﺓ ﻢــﻧ 27\n"
     ]
    }
   ],
   "source": [
    "import arabic_reshaper\n",
    "from bidi.algorithm import get_display\n",
    "\n",
    "# Your extracted text\n",
    "\n",
    "\n",
    "# Split the text into words and reverse the order\n",
    "words = text.split()\n",
    "reversed_words = words[::-1]\n",
    "reversed_text = ' '.join(reversed_words)\n",
    "\n",
    "# Reshape and display the text\n",
    "reshaped_text = arabic_reshaper.reshape(reversed_text)\n",
    "bidi_text = get_display(reshaped_text)\n",
    "\n",
    "print(bidi_text)\n"
   ]
  },
  {
   "cell_type": "code",
   "execution_count": null,
   "metadata": {},
   "outputs": [],
   "source": []
  }
 ],
 "metadata": {
  "kernelspec": {
   "display_name": "Python 3",
   "language": "python",
   "name": "python3"
  },
  "language_info": {
   "codemirror_mode": {
    "name": "ipython",
    "version": 3
   },
   "file_extension": ".py",
   "mimetype": "text/x-python",
   "name": "python",
   "nbconvert_exporter": "python",
   "pygments_lexer": "ipython3",
   "version": "3.11.9"
  }
 },
 "nbformat": 4,
 "nbformat_minor": 2
}
